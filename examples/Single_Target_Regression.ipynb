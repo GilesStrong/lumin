{
 "cells": [
  {
   "cell_type": "markdown",
   "metadata": {},
   "source": [
    "# Single target regression from ROOT file"
   ]
  },
  {
   "cell_type": "markdown",
   "metadata": {},
   "source": [
    "### Basic Modules"
   ]
  },
  {
   "cell_type": "code",
   "execution_count": 1,
   "metadata": {},
   "outputs": [],
   "source": [
    "%matplotlib inline\n",
    "%reload_ext autoreload\n",
    "%autoreload 2\n",
    "import pandas as pd\n",
    "import numpy as np\n",
    "import os\n",
    "import h5py\n",
    "import pickle"
   ]
  },
  {
   "cell_type": "code",
   "execution_count": 2,
   "metadata": {},
   "outputs": [],
   "source": [
    "from pathlib import Path\n",
    "PATH = Path('./data')"
   ]
  },
  {
   "cell_type": "markdown",
   "metadata": {},
   "source": [
    "## Data preparation"
   ]
  },
  {
   "cell_type": "markdown",
   "metadata": {},
   "source": [
    "### Data import from ROOT file \n",
    "Use uproot to import the ROOT data into a pandas dataframe.\n",
    "Example data is for the process $pp\\rightarrow hh\\rightarrow b\\bar{b}\\,\\tau\\bar{\\tau}\\rightarrow b\\bar{b}\\,\\tau_h\\mu$"
   ]
  },
  {
   "cell_type": "code",
   "execution_count": 3,
   "metadata": {},
   "outputs": [],
   "source": [
    "import uproot\n",
    "df = uproot.open(PATH/'signal.root')['tree'].pandas.df()"
   ]
  },
  {
   "cell_type": "code",
   "execution_count": 4,
   "metadata": {},
   "outputs": [
    {
     "data": {
      "text/html": [
       "<div>\n",
       "<style scoped>\n",
       "    .dataframe tbody tr th:only-of-type {\n",
       "        vertical-align: middle;\n",
       "    }\n",
       "\n",
       "    .dataframe tbody tr th {\n",
       "        vertical-align: top;\n",
       "    }\n",
       "\n",
       "    .dataframe thead th {\n",
       "        text-align: right;\n",
       "    }\n",
       "</style>\n",
       "<table border=\"1\" class=\"dataframe\">\n",
       "  <thead>\n",
       "    <tr style=\"text-align: right;\">\n",
       "      <th></th>\n",
       "      <th>t_0_pT</th>\n",
       "      <th>t_0_eta</th>\n",
       "      <th>t_0_phi</th>\n",
       "      <th>t_0_mass</th>\n",
       "      <th>t_1_pT</th>\n",
       "      <th>t_1_eta</th>\n",
       "      <th>t_1_phi</th>\n",
       "      <th>t_1_mass</th>\n",
       "      <th>b_0_pT</th>\n",
       "      <th>b_0_eta</th>\n",
       "      <th>...</th>\n",
       "      <th>gen_h_bb_eta</th>\n",
       "      <th>gen_h_bb_phi</th>\n",
       "      <th>gen_h_bb_E</th>\n",
       "      <th>gen_h_tt_pT</th>\n",
       "      <th>gen_h_tt_eta</th>\n",
       "      <th>gen_h_tt_phi</th>\n",
       "      <th>gen_h_tt_E</th>\n",
       "      <th>gen_mctMatch</th>\n",
       "      <th>gen_weight</th>\n",
       "      <th>gen_target</th>\n",
       "    </tr>\n",
       "  </thead>\n",
       "  <tbody>\n",
       "    <tr>\n",
       "      <th>0</th>\n",
       "      <td>36.850742</td>\n",
       "      <td>-1.301508</td>\n",
       "      <td>-0.449490</td>\n",
       "      <td>3.583080e+00</td>\n",
       "      <td>88.756241</td>\n",
       "      <td>-0.045828</td>\n",
       "      <td>0.801673</td>\n",
       "      <td>0.105658</td>\n",
       "      <td>101.773132</td>\n",
       "      <td>-0.621864</td>\n",
       "      <td>...</td>\n",
       "      <td>-0.366014</td>\n",
       "      <td>-2.261545</td>\n",
       "      <td>193.133926</td>\n",
       "      <td>167.054816</td>\n",
       "      <td>-0.364203</td>\n",
       "      <td>0.617325</td>\n",
       "      <td>217.716858</td>\n",
       "      <td>1.0</td>\n",
       "      <td>1.0</td>\n",
       "      <td>1.0</td>\n",
       "    </tr>\n",
       "    <tr>\n",
       "      <th>1</th>\n",
       "      <td>44.549965</td>\n",
       "      <td>1.641584</td>\n",
       "      <td>2.540022</td>\n",
       "      <td>1.228315e+00</td>\n",
       "      <td>68.820755</td>\n",
       "      <td>1.131779</td>\n",
       "      <td>-2.750534</td>\n",
       "      <td>0.105658</td>\n",
       "      <td>198.545624</td>\n",
       "      <td>1.155151</td>\n",
       "      <td>...</td>\n",
       "      <td>1.094840</td>\n",
       "      <td>-0.055264</td>\n",
       "      <td>477.111084</td>\n",
       "      <td>205.618939</td>\n",
       "      <td>1.476620</td>\n",
       "      <td>3.140846</td>\n",
       "      <td>489.813568</td>\n",
       "      <td>1.0</td>\n",
       "      <td>1.0</td>\n",
       "      <td>1.0</td>\n",
       "    </tr>\n",
       "    <tr>\n",
       "      <th>2</th>\n",
       "      <td>32.312160</td>\n",
       "      <td>0.225592</td>\n",
       "      <td>-2.485713</td>\n",
       "      <td>7.742898e-01</td>\n",
       "      <td>73.520073</td>\n",
       "      <td>0.495276</td>\n",
       "      <td>1.294261</td>\n",
       "      <td>0.105658</td>\n",
       "      <td>344.611084</td>\n",
       "      <td>0.085861</td>\n",
       "      <td>...</td>\n",
       "      <td>-0.034175</td>\n",
       "      <td>-0.278533</td>\n",
       "      <td>399.206879</td>\n",
       "      <td>66.369413</td>\n",
       "      <td>0.820306</td>\n",
       "      <td>1.702539</td>\n",
       "      <td>154.017578</td>\n",
       "      <td>1.0</td>\n",
       "      <td>1.0</td>\n",
       "      <td>1.0</td>\n",
       "    </tr>\n",
       "    <tr>\n",
       "      <th>3</th>\n",
       "      <td>55.896526</td>\n",
       "      <td>-1.680148</td>\n",
       "      <td>1.079537</td>\n",
       "      <td>4.889964e+00</td>\n",
       "      <td>32.492466</td>\n",
       "      <td>-1.598684</td>\n",
       "      <td>2.668608</td>\n",
       "      <td>0.105658</td>\n",
       "      <td>92.599792</td>\n",
       "      <td>-2.158637</td>\n",
       "      <td>...</td>\n",
       "      <td>-1.933018</td>\n",
       "      <td>-0.814522</td>\n",
       "      <td>517.224487</td>\n",
       "      <td>141.165349</td>\n",
       "      <td>-1.903520</td>\n",
       "      <td>2.270204</td>\n",
       "      <td>499.970337</td>\n",
       "      <td>1.0</td>\n",
       "      <td>1.0</td>\n",
       "      <td>1.0</td>\n",
       "    </tr>\n",
       "    <tr>\n",
       "      <th>4</th>\n",
       "      <td>47.391769</td>\n",
       "      <td>0.881903</td>\n",
       "      <td>2.025714</td>\n",
       "      <td>9.536743e-07</td>\n",
       "      <td>95.349663</td>\n",
       "      <td>0.173650</td>\n",
       "      <td>2.977873</td>\n",
       "      <td>0.105658</td>\n",
       "      <td>154.887131</td>\n",
       "      <td>0.073108</td>\n",
       "      <td>...</td>\n",
       "      <td>-0.028465</td>\n",
       "      <td>-0.835442</td>\n",
       "      <td>382.160492</td>\n",
       "      <td>253.092701</td>\n",
       "      <td>0.351680</td>\n",
       "      <td>2.796669</td>\n",
       "      <td>296.538849</td>\n",
       "      <td>1.0</td>\n",
       "      <td>1.0</td>\n",
       "      <td>1.0</td>\n",
       "    </tr>\n",
       "  </tbody>\n",
       "</table>\n",
       "<p>5 rows × 91 columns</p>\n",
       "</div>"
      ],
      "text/plain": [
       "      t_0_pT   t_0_eta   t_0_phi      t_0_mass     t_1_pT   t_1_eta   t_1_phi  \\\n",
       "0  36.850742 -1.301508 -0.449490  3.583080e+00  88.756241 -0.045828  0.801673   \n",
       "1  44.549965  1.641584  2.540022  1.228315e+00  68.820755  1.131779 -2.750534   \n",
       "2  32.312160  0.225592 -2.485713  7.742898e-01  73.520073  0.495276  1.294261   \n",
       "3  55.896526 -1.680148  1.079537  4.889964e+00  32.492466 -1.598684  2.668608   \n",
       "4  47.391769  0.881903  2.025714  9.536743e-07  95.349663  0.173650  2.977873   \n",
       "\n",
       "   t_1_mass      b_0_pT   b_0_eta  ...  gen_h_bb_eta  gen_h_bb_phi  \\\n",
       "0  0.105658  101.773132 -0.621864  ...     -0.366014     -2.261545   \n",
       "1  0.105658  198.545624  1.155151  ...      1.094840     -0.055264   \n",
       "2  0.105658  344.611084  0.085861  ...     -0.034175     -0.278533   \n",
       "3  0.105658   92.599792 -2.158637  ...     -1.933018     -0.814522   \n",
       "4  0.105658  154.887131  0.073108  ...     -0.028465     -0.835442   \n",
       "\n",
       "   gen_h_bb_E  gen_h_tt_pT  gen_h_tt_eta  gen_h_tt_phi  gen_h_tt_E  \\\n",
       "0  193.133926   167.054816     -0.364203      0.617325  217.716858   \n",
       "1  477.111084   205.618939      1.476620      3.140846  489.813568   \n",
       "2  399.206879    66.369413      0.820306      1.702539  154.017578   \n",
       "3  517.224487   141.165349     -1.903520      2.270204  499.970337   \n",
       "4  382.160492   253.092701      0.351680      2.796669  296.538849   \n",
       "\n",
       "   gen_mctMatch  gen_weight  gen_target  \n",
       "0           1.0         1.0         1.0  \n",
       "1           1.0         1.0         1.0  \n",
       "2           1.0         1.0         1.0  \n",
       "3           1.0         1.0         1.0  \n",
       "4           1.0         1.0         1.0  \n",
       "\n",
       "[5 rows x 91 columns]"
      ]
     },
     "execution_count": 4,
     "metadata": {},
     "output_type": "execute_result"
    }
   ],
   "source": [
    "df.head()"
   ]
  },
  {
   "cell_type": "markdown",
   "metadata": {},
   "source": [
    "Since only the $\\mu+\\tau_h$ decay channel is used, $t_1$ has a constant mass (muon mass), so we can simply drop it."
   ]
  },
  {
   "cell_type": "code",
   "execution_count": 5,
   "metadata": {},
   "outputs": [],
   "source": [
    "df.drop(columns=['t_1_mass'], inplace=True)"
   ]
  },
  {
   "cell_type": "markdown",
   "metadata": {},
   "source": [
    "The data also contains events where the incorect final-states were chosen, since we need the reconstructed and generator-level objects to match for correct regression, we only want to train on the correctly selected events (gen_mctMatch == True)"
   ]
  },
  {
   "cell_type": "code",
   "execution_count": 6,
   "metadata": {},
   "outputs": [
    {
     "data": {
      "text/plain": [
       "61405"
      ]
     },
     "execution_count": 6,
     "metadata": {},
     "output_type": "execute_result"
    }
   ],
   "source": [
    "df = df[df.gen_mctMatch == 1]; len(df)"
   ]
  },
  {
   "cell_type": "markdown",
   "metadata": {},
   "source": [
    "We can now check how poorly the reconstructed di-Higgs mass matches to the true mass"
   ]
  },
  {
   "cell_type": "code",
   "execution_count": 7,
   "metadata": {},
   "outputs": [],
   "source": [
    "df['gen_delta'] = df['diH_mass']-df['gen_diH_mass']"
   ]
  },
  {
   "cell_type": "markdown",
   "metadata": {},
   "source": [
    "`plot_feat` is a flexible function to provide indicative information about the 1D distribution of a feature. By default it will produce a weighted KDE+histogram for the [1,99] percentile of the data, as well as compute the mean and standard deviation of the data in this region. "
   ]
  },
  {
   "cell_type": "code",
   "execution_count": 8,
   "metadata": {},
   "outputs": [
    {
     "name": "stderr",
     "output_type": "stream",
     "text": [
      "/home/giles/anaconda3/lib/python3.6/site-packages/matplotlib/axes/_axes.py:6521: MatplotlibDeprecationWarning: \n",
      "The 'normed' kwarg was deprecated in Matplotlib 2.1 and will be removed in 3.1. Use 'density' instead.\n",
      "  alternative=\"'density'\", removal=\"3.1\")\n"
     ]
    },
    {
     "data": {
      "image/png": "[encoded data removed]",
      "text/plain": [
       "<Figure size 1024x576 with 1 Axes>"
      ]
     },
     "metadata": {},
     "output_type": "display_data"
    }
   ],
   "source": [
    "from lumin.plotting.data_viewing import plot_feat\n",
    "plot_feat(df, 'gen_delta')"
   ]
  },
  {
   "cell_type": "markdown",
   "metadata": {},
   "source": [
    "### Preprocessing\n",
    "Having imported the ROOT data, we now need to further process it into form suitable for training the regressor.\n",
    "\n",
    "We can start by moving a Cartesian coordinate system; the HEP standard of $p_T,\\ \\eta,\\ \\phi$ can be a bit tricky, since $\\phi$ is cyclical in nature, and $\\eta$ is higly non-linear. Additionally, since the di-Higgs mass is invarient under transformations of the absolute orientation of each event, we can remove several symetries in the data by rotating each event to have the same orientation.\n",
    "\n",
    "`proc_event` has options to set all events to have `ref_vec_0` at $\\phi=0$ and be always in the positive $\\eta$ region. The remaining symetry of transverse reflection can be fixed by setting `ref_vec_1` to be in the positve $\\phi$ region. The vectors can then transformed into Cartesian system via `use_cartesian` flag. The original vectors are automatically dropped, but can be kept if added to `keep_feat`. It can sometimes be useful to keep the absolute amount of $p_T^{\\mathrm{miss}}$, since this is now non-linear combination of $p_x^{\\mathrm{miss}}$ and $p_y^{\\mathrm{miss}}$."
   ]
  },
  {
   "cell_type": "code",
   "execution_count": null,
   "metadata": {},
   "outputs": [],
   "source": [
    "from lumin.data_processing.hep_proc import proc_event\n",
    "proc_event(df, use_cartesian=True, fix_phi=True, fix_y=True, fix_z=True, ref_vec_0='t_0', ref_vec_1='t_1', keep_feats=['mPT_pT'])"
   ]
  },
  {
   "cell_type": "markdown",
   "metadata": {},
   "source": [
    "For quick access, we'll define here all the sets of features we'll later want use"
   ]
  },
  {
   "cell_type": "code",
   "execution_count": null,
   "metadata": {},
   "outputs": [],
   "source": [
    "targ_feat = 'gen_diH_mass'\n",
    "gen_feats = [f for f in df.columns if 'gen_' in f]\n",
    "cat_feats = [f for f in df.columns if f.startswith('n') if f != 'nPhotons']\n",
    "cont_feats = [f for f in df.columns if f not in gen_feats+cat_feats]\n",
    "print(len(cat_feats), cat_feats)\n",
    "print(len(cont_feats), cont_feats)\n",
    "train_feats = cont_feats + cat_feats"
   ]
  },
  {
   "cell_type": "markdown",
   "metadata": {},
   "source": [
    "Several of the categorical features display long tails, making it difficult to ensure decent population. We're perhaps more interest in whether events contain few, several, or lots of jets, rather that the exact number, so we'll simply cut to the tails and more the last category to be $x$ or greater."
   ]
  },
  {
   "cell_type": "code",
   "execution_count": null,
   "metadata": {},
   "outputs": [],
   "source": [
    "df.loc[df.nJets >= 5, 'nJets'] = 4\n",
    "df.loc[df.nBJets >= 5, 'nBJets'] = 4\n",
    "for f in cat_feats:\n",
    "    s = set(df[f])\n",
    "    print(f, len(s), s)"
   ]
  },
  {
   "cell_type": "markdown",
   "metadata": {},
   "source": [
    "To create our validation set, we'll eventually pull out a random sample, however it can be useful to ensure as much similarity as possible by doing a stratified split using the categories in the data. `ids2unique` maps each set of categories to a unique integer, allowing us to create a single set of values to use as the stratification key."
   ]
  },
  {
   "cell_type": "code",
   "execution_count": null,
   "metadata": {},
   "outputs": [],
   "source": [
    "from lumin.utils.misc import ids2unique\n",
    "df['gen_strat_key'] = ids2unique(df[cat_feats].values)"
   ]
  },
  {
   "cell_type": "code",
   "execution_count": null,
   "metadata": {},
   "outputs": [],
   "source": [
    "df.replace([np.inf, -np.inf], np.nan, inplace=True)"
   ]
  },
  {
   "cell_type": "code",
   "execution_count": null,
   "metadata": {},
   "outputs": [],
   "source": [
    "df.columns[df.isna().any()].tolist()"
   ]
  },
  {
   "cell_type": "markdown",
   "metadata": {},
   "source": [
    "#### Train-validation split "
   ]
  },
  {
   "cell_type": "code",
   "execution_count": null,
   "metadata": {},
   "outputs": [],
   "source": [
    "from sklearn.model_selection import train_test_split \n",
    "val_sz = 0.2\n",
    "train_df, val_df = train_test_split(df, test_size=val_sz, stratify=df.gen_strat_key)"
   ]
  },
  {
   "cell_type": "markdown",
   "metadata": {},
   "source": [
    "Having pulled out a stratified random subsample, we can check whether it really is representative of the train data (and our test set if we had one) by seeing whether we can use the input features to identify which dataset each event belongs to. If there our some features which allow the sets to be identified, then we could remove them from the inputs to improve the generalisation of the model.\n",
    "\n",
    "`check_val_set` runs some random forests to try and predict the originating datasets of the events, and then returns the area under the ROC curve for the classifiers. Ideally this should be 0.5, indicating it can only do as well as random guessing. Training and inference use weights to account for the fact that the datasets may have uneven populations."
   ]
  },
  {
   "cell_type": "code",
   "execution_count": null,
   "metadata": {},
   "outputs": [],
   "source": [
    "from lumin.utils.data import check_val_set\n",
    "check_val_set(train_df, val_df)"
   ]
  },
  {
   "cell_type": "markdown",
   "metadata": {},
   "source": [
    "#### Final preprocessing\n",
    "The network weights will use initialisation schemes which expect the inputs to be unit Gaussian. We'll use sklearn pipelines to package transformations which alter the data to have mean zero and standard deviation one."
   ]
  },
  {
   "cell_type": "code",
   "execution_count": null,
   "metadata": {},
   "outputs": [],
   "source": [
    "from lumin.data_processing.pre_proc import fit_input_pipe\n",
    "input_pipe = fit_input_pipe(train_df, cont_feats, PATH)"
   ]
  },
  {
   "cell_type": "code",
   "execution_count": null,
   "metadata": {},
   "outputs": [],
   "source": [
    "train_df[cont_feats] = input_pipe.transform(train_df[cont_feats])\n",
    "val_df[cont_feats] = input_pipe.transform(val_df[cont_feats])"
   ]
  },
  {
   "cell_type": "markdown",
   "metadata": {},
   "source": [
    "Since we'll be using entity embeddings for the categorical features, we want to transform their codes to start from zero and increase incrementaly. We also need to make sure the validation (and test) sets receive the same transformaitions as the training set.\n",
    "\n",
    "`proc_cats` does this and returns dictionaries of the both the mapping that was applied, and the cardinality of each feature."
   ]
  },
  {
   "cell_type": "code",
   "execution_count": null,
   "metadata": {},
   "outputs": [],
   "source": [
    "from lumin.data_processing.pre_proc import proc_cats\n",
    "cat_maps, cat_szs = proc_cats(train_df, cat_feats, val_df)\n",
    "cat_maps, cat_szs"
   ]
  },
  {
   "cell_type": "markdown",
   "metadata": {},
   "source": [
    "### Conversion to fold file "
   ]
  },
  {
   "cell_type": "markdown",
   "metadata": {},
   "source": [
    "Having finished processing the data, we can now save it to h5py files in a format that `FoldYielder` will expect."
   ]
  },
  {
   "cell_type": "code",
   "execution_count": null,
   "metadata": {},
   "outputs": [],
   "source": [
    "from lumin.data_processing.file_proc import df2foldfile\n",
    "df2foldfile(df=train_df, n_folds=10,\n",
    "            cont_feats=cont_feats, cat_feats=cat_feats, targ_feats=targ_feat,\n",
    "            savename=PATH/'train', targ_type='float32', strat_key='gen_strat_key')"
   ]
  },
  {
   "cell_type": "code",
   "execution_count": null,
   "metadata": {},
   "outputs": [],
   "source": [
    "df2foldfile(df=val_df, n_folds=10,\n",
    "            cont_feats=cont_feats, cat_feats=cat_feats, targ_feats=targ_feat,\n",
    "            savename=PATH/'val', targ_type='float32', strat_key='gen_strat_key')"
   ]
  },
  {
   "cell_type": "markdown",
   "metadata": {
    "heading_collapsed": true
   },
   "source": [
    "## Feature selection"
   ]
  },
  {
   "cell_type": "markdown",
   "metadata": {
    "hidden": true
   },
   "source": [
    "Currently we're using all of the available information from the ROOT file, however it contains an awful lot of high-level features which may not be useful for the regression. We can run a few checks to try and filter out the uneeded features.\n",
    "\n",
    "`FoldYielder` is the base class we'll use to pull data from the h5py file. We can also recover the original dataframe via `get_df`, and deporcess it my adding the input pipe."
   ]
  },
  {
   "cell_type": "code",
   "execution_count": null,
   "metadata": {
    "hidden": true
   },
   "outputs": [],
   "source": [
    "from lumin.nn.data.fold_yielder import FoldYielder\n",
    "train_fy = FoldYielder(h5py.File(PATH/'train.hdf5', \"r+\"), cont_feats, cat_feats)\n",
    "train_fy.add_input_pipe(input_pipe)\n",
    "train_df = train_fy.get_df(inc_inputs=True, deprocess=True); train_df.head()"
   ]
  },
  {
   "cell_type": "markdown",
   "metadata": {
    "hidden": true
   },
   "source": [
    "[Description of dendrogram]"
   ]
  },
  {
   "cell_type": "code",
   "execution_count": null,
   "metadata": {
    "hidden": true
   },
   "outputs": [],
   "source": [
    "from lumin.plotting.data_viewing import plot_dendrogram\n",
    "plot_dendrogram(train_df[train_feats])"
   ]
  },
  {
   "cell_type": "markdown",
   "metadata": {
    "hidden": true
   },
   "source": [
    "For further tests we'll want to split of another, temporary validation set"
   ]
  },
  {
   "cell_type": "code",
   "execution_count": null,
   "metadata": {
    "hidden": true
   },
   "outputs": [],
   "source": [
    "df_trn, df_val = train_test_split(train_df, test_size=0.8)"
   ]
  },
  {
   "cell_type": "markdown",
   "metadata": {
    "hidden": true
   },
   "source": [
    "We're mainly interested in filtering down the high-level features, and will assume that the random forests we'll be using will not beable to make as much use of the loweer level information as the neural networks will, so we'll only test the high level fetaures and add regularisation as necessary leter."
   ]
  },
  {
   "cell_type": "code",
   "execution_count": null,
   "metadata": {
    "hidden": true
   },
   "outputs": [],
   "source": [
    "vec_feats = []\n",
    "for c in ['px', 'py', 'pz', 'mass']:\n",
    "    vec_feats += [f for f in train_feats if f == f'{f[:f.rfind(\"_\")+1]}{c}']\n",
    "len(vec_feats), vec_feats"
   ]
  },
  {
   "cell_type": "code",
   "execution_count": null,
   "metadata": {
    "hidden": true
   },
   "outputs": [],
   "source": [
    "hl_feats = [f for f in train_feats if f not in vec_feats]; len(hl_feats), hl_feats"
   ]
  },
  {
   "cell_type": "markdown",
   "metadata": {
    "hidden": true
   },
   "source": [
    "Let's see which of the high-level features the RFs find useful. `rf_rank_features` wraps rfpimp and initially trains a RF using the data and eveluates it on the validation set. It then sequentially makes a copy of the data and randomises the order of one of the fetaures and then reevaluates the model performance, and compares it to the original score. If their is a large decrease in the score, then the feature which was randomised was very important in the model. If there is only a small decrease (or increase) in the score, then the feature was not important.\n",
    "\n",
    "Having established the importance of the features, `rf_rank_features` then runs another training only using the features with importances higher the the `cut` argument. If there is no decrease in the score, the ignored features can probably be safely removed."
   ]
  },
  {
   "cell_type": "code",
   "execution_count": null,
   "metadata": {
    "hidden": true,
    "scrolled": false
   },
   "outputs": [],
   "source": [
    "from lumin.optimisation.features import *\n",
    "import_feats = rf_rank_features(df_trn, df_val, objective='regression', train_feats=hl_feats, cut=0.001)"
   ]
  },
  {
   "cell_type": "code",
   "execution_count": null,
   "metadata": {
    "hidden": true
   },
   "outputs": [],
   "source": [
    "_, m = get_opt_rf_params(df_trn[import_feats], df_trn.gen_target, df_val[import_feats], df_val.gen_target, objective='regression')"
   ]
  },
  {
   "cell_type": "markdown",
   "metadata": {
    "hidden": true
   },
   "source": [
    "The above method of premutation importance, does not account for the possibility of r sets of features being coreallated; features carrying mutual information can lead to them being assigned low importances since when one feature is randomised, the other makes up for it and performance remains the same. In reality we'd only want to remove one of these features, since removing both could lead to a drop in performance. `rfpimp` provides some useful functions for plotting the correlations beween features, and to check feature dependence by seeing how easily random forests are able to regress to each input feature in turn using the other features as inputs."
   ]
  },
  {
   "cell_type": "code",
   "execution_count": null,
   "metadata": {
    "hidden": true
   },
   "outputs": [],
   "source": [
    "from rfpimp import plot_corr_heatmap, feature_dependence_matrix, plot_dependence_heatmap"
   ]
  },
  {
   "cell_type": "code",
   "execution_count": null,
   "metadata": {
    "hidden": true
   },
   "outputs": [],
   "source": [
    "plot_corr_heatmap(df_trn[import_feats], figsize=(11,11), label_fontsize=9, value_fontsize=7)"
   ]
  },
  {
   "cell_type": "code",
   "execution_count": null,
   "metadata": {
    "hidden": true
   },
   "outputs": [],
   "source": [
    "from sklearn.ensemble import RandomForestRegressor"
   ]
  },
  {
   "cell_type": "code",
   "execution_count": null,
   "metadata": {
    "hidden": true
   },
   "outputs": [],
   "source": [
    "D = feature_dependence_matrix(df_trn[import_feats], sort_by_dependence=False, rfmodel=RandomForestRegressor(n_estimators=40, n_jobs=-1, oob_score=True))"
   ]
  },
  {
   "cell_type": "code",
   "execution_count": null,
   "metadata": {
    "hidden": true
   },
   "outputs": [],
   "source": [
    "plot_dependence_heatmap(D, figsize=(11,10))"
   ]
  },
  {
   "cell_type": "markdown",
   "metadata": {
    "hidden": true
   },
   "source": [
    "[discussion of plot]"
   ]
  },
  {
   "cell_type": "code",
   "execution_count": null,
   "metadata": {
    "hidden": true
   },
   "outputs": [],
   "source": [
    "drop = ['dShapeP', 'aplanarityP', 'aplanorityA', 'upsilonA']"
   ]
  },
  {
   "cell_type": "markdown",
   "metadata": {
    "hidden": true
   },
   "source": [
    "We'll creat a list of features to ignore and then save all the feature lists for later use"
   ]
  },
  {
   "cell_type": "code",
   "execution_count": null,
   "metadata": {
    "hidden": true
   },
   "outputs": [],
   "source": [
    "ignore_feats = [f for f in train_feats if f not in vec_feats + import_feats or f in drop];len(ignore_feats),  ignore_feats"
   ]
  },
  {
   "cell_type": "code",
   "execution_count": null,
   "metadata": {
    "hidden": true
   },
   "outputs": [],
   "source": [
    "with open(PATH/'feats.pkl', 'wb') as fout:\n",
    "    pickle.dump({'targ_feats': targ_feat, 'cont_feats': cont_feats, 'cat_feats': cat_feats, 'cat_maps': cat_maps, 'cat_szs': cat_szs, 'ignore_feats': ignore_feats}, fout)"
   ]
  },
  {
   "cell_type": "markdown",
   "metadata": {},
   "source": [
    "## Train regressor"
   ]
  },
  {
   "cell_type": "markdown",
   "metadata": {},
   "source": [
    "Now we're ready to begin training the networked-based regressor. First we can load the feature sets, create a `FoldYielder` for the training data, and tell it to ignore the features we found to not be important."
   ]
  },
  {
   "cell_type": "code",
   "execution_count": null,
   "metadata": {},
   "outputs": [],
   "source": [
    "with open(PATH/'feats.pkl', 'rb') as fin:\n",
    "    feats = pickle.load(fin)\n",
    "    targ_feat = feats['targ_feats']\n",
    "    cont_feats = feats['cont_feats']\n",
    "    cat_feats = feats['cat_feats']    \n",
    "    cat_maps = feats['cat_maps']    \n",
    "    cat_szs = feats['cat_szs']    \n",
    "    ignore_feats = feats['ignore_feats']\n",
    "    train_feats = cont_feats + cat_feats\n",
    "    \n",
    "with open(PATH/'input_pipe.pkl', 'rb') as fin:\n",
    "    input_pipe = pickle.load(fin)"
   ]
  },
  {
   "cell_type": "code",
   "execution_count": null,
   "metadata": {},
   "outputs": [],
   "source": [
    "from lumin.nn.data.fold_yielder import FoldYielder\n",
    "train_fy = FoldYielder(h5py.File(PATH/'train.hdf5', \"r+\"), cont_feats, cat_feats)\n",
    "train_fy.ignore(ignore_feats)"
   ]
  },
  {
   "cell_type": "code",
   "execution_count": null,
   "metadata": {},
   "outputs": [],
   "source": [
    "use_conts = [f for f in cont_feats if f not in ignore_feats]\n",
    "use_cats = [f for f in cat_feats if f not in ignore_feats]"
   ]
  },
  {
   "cell_type": "code",
   "execution_count": null,
   "metadata": {},
   "outputs": [],
   "source": [
    "for f in [f for f in cat_feats if f not in use_cats]: cat_szs.pop(f)"
   ]
  },
  {
   "cell_type": "markdown",
   "metadata": {},
   "source": [
    "The target feature spans quite a range and is at a scale far from zero, making it difficult to regress to. Rather than preprocess it, like the input features, we can instead use a sigmoid activation in the last layer and rescale it to match the target feature. To do this we need to know the range of the feature, and to also account for the training data not covering the full possible range."
   ]
  },
  {
   "cell_type": "code",
   "execution_count": null,
   "metadata": {},
   "outputs": [],
   "source": [
    "targets = train_fy.get_column(\"targets\")\n",
    "y_range = (0.8*targets.min(), 1.2*targets.max()); y_range"
   ]
  },
  {
   "cell_type": "markdown",
   "metadata": {},
   "source": [
    "Here we define the architecture of the models, and how we want to train them. `ModelBuilder` takes arguments to define the network, loss, optimiser, and inputs and outputs and can then create networks on demand. These networks are provided as properties of the `Model` class which contains methods to train them, evaluate, predict, save/load, et cetera.\n",
    "### ModelBuilder\n",
    "Most of the parameters will use default values if not provided explicitly which can be viewed in the source code, e.g. `ModelBuilder.parse_cat_args`, `ModelBuilder.parse_loss`, `ModelBuilder.parse_model_args`, and `ModelBuilder.parse_opt_args`.\n",
    "#### Architecture\n",
    "The network consists of three parts: A head, which takes the inputs to the network; a body, which contains the majority of the hidden layers; and a tail which downscales the output of the body to match the desired number of outputs. The classes used for each can be specified \n",
    "\n",
    "By default the head is `CatEmbHead` which provides entity embeddings for categorical features (embedding sizes can be configured manually, or left as default `max(50,cardinality//2)`), and then a batch normalisation with the continuous inputs, with separate dropouts for embeddings and continuous inputs. These are then fed into a dense layer to scale up the connections to the model width parameter. More advanced classes, can be passed to the `ModelBuilder` head argument, or `ModelBuilder.get_head` overridden in an inheriting class.\n",
    "\n",
    "The default body is a simple sequence of hidden layers (`FullyConnected`). These layers can optionally have dropout, batch normalisation, skip connections (residual network), or cumulative concatenations (dense network). The choice of class is set by `ModelBuldier`'s `body` argument, and built by `ModelBuilder.get_body`.\n",
    "\n",
    "The tail (default `ClassRegMulti` set by `tail` argument/`ModelBuilder.get_tail`) uses a final dense layer to scale down the body output to match `n_out` and then applies an automatically selected activation according to `objective`:\n",
    "- 'class*' or 'labelclass*' = sigmoid\n",
    "- 'multiclass' = logsoftmax\n",
    "- 'regression' and not `y_range` = linear\n",
    "- 'regression' and `y_range` = sigmoid + offset and rescaling\n",
    "#### Loss\n",
    "This can either be passed as the `loss` argument of `ModelBuilder`, or be left to be automatically chosen according to `objective`:\n",
    "- 'class*' or 'labelclass*' = Binary cross-entropy (`nn.BCELoss`)\n",
    "- 'multiclass' = Weighted cross-entropy (`WeightedCCE`)\n",
    "- 'regression' = Weighted mean-squared error (`WeightedMSE`, (`WeightedMAE` also exists but must be explicitly passed))\n",
    "\n",
    "**N.B.** If a loss class is passed explicitly, it should be uninitialised to allow weights to be correctly handled.\n",
    "\n",
    "`ModelBuilder.parse_loss` handles the automatic loss configuration.\n",
    "#### Optimiser\n",
    "Configured by `opt_args` argument of `ModelBuilder`, `ModelBuidler.parse_opt_args`, and `ModelBuilder.build_opt`. Currently only SGD and Adam are available. Choices of weight decay should be added in `opt_args`. The Learning rate can be set later via `ModelBuilder.set_lr`."
   ]
  },
  {
   "cell_type": "code",
   "execution_count": null,
   "metadata": {},
   "outputs": [],
   "source": [
    "from lumin.nn.models.model_builder import ModelBuilder\n",
    "from lumin.nn.models.model import Model\n",
    "\n",
    "bs = 128\n",
    "objective = 'regression'\n",
    "model_args = {'act':'swish', 'width':50, 'depth':4, 'denresse':True,\n",
    "              'do_cat':0.005, 'do_cont':0.01, 'do':0.02, 'bn':False}\n",
    "opt_args = {'opt':'adam', 'eps':1e-08}\n",
    "n_cont_in=len(use_conts)\n",
    "cat_args = {'n_cat_in':len(use_cats), 'cat_szs':[cat_szs[f] for f in cat_szs],\n",
    "            'cat_names':[f for f in cat_szs], 'emb_szs':None}\n",
    "\n",
    "n_out = 1\n",
    "model_builder = ModelBuilder(objective, n_cont_in=len(use_conts), n_out=n_out, cat_args=cat_args, y_range=y_range,\n",
    "                             model_args=model_args, opt_args=opt_args)\n",
    "\n",
    "print(\"\\nTraining on\", len(use_conts), \" continuous features:\", [var for var in use_conts])\n",
    "print(\"\\nTraining on\", len(use_cats), \" categorical features:\", [var for var in use_cats])\n",
    "print('\\n Model:')\n",
    "print(Model(model_builder))"
   ]
  },
  {
   "cell_type": "markdown",
   "metadata": {},
   "source": [
    "The learning rate can be quickly optimised via the [LR range test](https://arxiv.org/abs/1506.01186). This involves gradually increasing the LR from a small value to a lrage one after each minibatch update and then plotting the loss as a function of the LR. One can expect to see an initial period of slow, or nonexistant, loss decrease where the LR is far too small. Eventully the LR becomes large enough to allow useful weigh updates (loss decreases). Eventually the LR becomes so large the network diverges (loss platues then increases). The optimal LR is the highest one at which the loss is still decreasing.\n",
    "\n",
    "To allow for the randomness between different network trainings and data, `fold_lr_find`, runs several trainings using different folds of the data and then plots to mean and standard deviation of the loss."
   ]
  },
  {
   "cell_type": "code",
   "execution_count": null,
   "metadata": {
    "scrolled": false
   },
   "outputs": [],
   "source": [
    "from lumin.optimisation.hyper_param import fold_lr_find\n",
    "lr_finder = fold_lr_find(train_fy, model_builder, bs, lr_bounds=[1e-5,1e-1])"
   ]
  },
  {
   "cell_type": "code",
   "execution_count": null,
   "metadata": {
    "scrolled": false
   },
   "outputs": [],
   "source": [
    "from lumin.optimisation.hyper_param import fold_lr_find\n",
    "lr_finder = fold_lr_find(train_fy, model_builder, bs, lr_bounds=[1e-5,1e-1])"
   ]
  },
  {
   "cell_type": "code",
   "execution_count": null,
   "metadata": {
    "scrolled": false
   },
   "outputs": [],
   "source": [
    "from lumin.optimisation.hyper_param import fold_lr_find\n",
    "lr_finder = fold_lr_find(train_fy, model_builder, bs, lr_bounds=[1e-5,1e-1])"
   ]
  },
  {
   "cell_type": "markdown",
   "metadata": {},
   "source": [
    "Looks like somewhere around 4e-3 should be good."
   ]
  },
  {
   "cell_type": "markdown",
   "metadata": {},
   "source": [
    "The training function takes several sets of callbacks, ways to alter the model's training schedule, to report more specialised results, to affect the earlystopping, and to keep track of model weights.\n",
    "\n",
    "For this example we'll use [Fast Geometric Ensembling](https://arxiv.org/abs/1802.10026) to train an ensemble of models in a single training. This requires a linearly cycled LR with a short scale (about 4 sub-epochs per cycle). Snapshots of model are saved automatically after each cycle, so we can load them later to build our ensemble.\n",
    "\n",
    "We'll also add an evaluation metric to calculate the (bootstrapped) standard deviation of the difference between the predicted di-Higgs masses and the true values"
   ]
  },
  {
   "cell_type": "code",
   "execution_count": null,
   "metadata": {},
   "outputs": [],
   "source": [
    "from lumin.nn.callbacks.cyclic_callbacks import CycleLR\n",
    "from lumin.nn.metrics.reg_eval import RegPull\n",
    "\n",
    "n_models = 1\n",
    "patience = 10\n",
    "max_epochs = 10\n",
    "\n",
    "use_callbacks = [{'callback':CycleLR, 'kargs':{'lr_range': (4e-4, 4e-3), 'cycle_mult':1, 'interp':'linear', 'scale':4}}]\n",
    "eval_metrics = {'Pull': RegPull(use_pull=False)}\n",
    "plots = ['history', 'cycle']"
   ]
  },
  {
   "cell_type": "markdown",
   "metadata": {},
   "source": [
    "`fold_train_ensemble` performs training of (an ensemble of) models produced by the `ModelBuilder` using data provided by a `FoldYielder`. Model training  runs for upto `max_epochs` number of epochs, or until `patience` number of sub-epochs (or cycles) have elapsed with out an improvment of the validation loss. The model is then saved to `saveloc` to be loaded later. The function returns results of the training and model perfomance on validation fold. If an `AbsCyclicCallback` is used, then snapshots of the model weights are automatically saved after each cycle to allow for [Snapshot Ensembling](https://arxiv.org/abs/1704.00109) of [Fast Geometric Ensembling](https://arxiv.org/abs/1802.10026)."
   ]
  },
  {
   "cell_type": "code",
   "execution_count": null,
   "metadata": {
    "scrolled": false
   },
   "outputs": [],
   "source": [
    "from lumin.nn.training.fold_train import fold_train_ensemble\n",
    "results, histories, cycle_losses = fold_train_ensemble(train_fy, n_models,\n",
    "                                                       model_builder=model_builder,\n",
    "                                                       bs=bs,\n",
    "                                                       use_callbacks=use_callbacks,\n",
    "                                                       eval_metrics=eval_metrics,\n",
    "                                                       max_epochs=max_epochs, patience=patience,\n",
    "                                                       plots=plots)"
   ]
  },
  {
   "cell_type": "code",
   "execution_count": null,
   "metadata": {
    "scrolled": false
   },
   "outputs": [],
   "source": [
    "from lumin.nn.training.fold_train import fold_train_ensemble\n",
    "results, histories, cycle_losses = fold_train_ensemble(train_fy, n_models,\n",
    "                                                       model_builder=model_builder,\n",
    "                                                       bs=bs,\n",
    "                                                       use_callbacks=use_callbacks,\n",
    "                                                       eval_metrics=eval_metrics,\n",
    "                                                       max_epochs=max_epochs, patience=patience,\n",
    "                                                       plots=plots)"
   ]
  },
  {
   "cell_type": "code",
   "execution_count": null,
   "metadata": {
    "scrolled": false
   },
   "outputs": [],
   "source": [
    "from lumin.nn.training.fold_train import fold_train_ensemble\n",
    "results, histories, cycle_losses = fold_train_ensemble(train_fy, n_models,\n",
    "                                                       model_builder=model_builder,\n",
    "                                                       bs=bs,\n",
    "                                                       use_callbacks=use_callbacks,\n",
    "                                                       eval_metrics=eval_metrics,\n",
    "                                                       max_epochs=max_epochs, patience=patience,\n",
    "                                                       plots=plots)"
   ]
  },
  {
   "cell_type": "code",
   "execution_count": null,
   "metadata": {},
   "outputs": [],
   "source": [
    "from lumin.nn.ensemble.ensemble import Ensemble\n",
    "ensemble = Ensemble()\n",
    "ensemble.build_ensemble(results, 1, model_builder)"
   ]
  },
  {
   "cell_type": "code",
   "execution_count": null,
   "metadata": {},
   "outputs": [],
   "source": [
    "ensemble.save('weights/test', feats=train_feats, overwrite=True)"
   ]
  },
  {
   "cell_type": "markdown",
   "metadata": {},
   "source": [
    "## Interpretation "
   ]
  },
  {
   "cell_type": "code",
   "execution_count": null,
   "metadata": {},
   "outputs": [],
   "source": [
    "ensemble = Ensemble()\n",
    "ensemble.load('weights/test')"
   ]
  },
  {
   "cell_type": "code",
   "execution_count": null,
   "metadata": {},
   "outputs": [],
   "source": [
    "with open(PATH/'input_pipe.pkl', 'rb') as fin:\n",
    "    input_pipe = pickle.load(fin)\n",
    "train_fy.add_input_pipe(input_pipe)\n",
    "train_df = train_fy.get_df(inc_inputs=True, deprocess=True); train_df.head()"
   ]
  },
  {
   "cell_type": "code",
   "execution_count": null,
   "metadata": {},
   "outputs": [],
   "source": [
    "from lumin.nn.interpretation.features import get_ensemble_feat_importance, get_nn_feat_importance"
   ]
  },
  {
   "cell_type": "code",
   "execution_count": null,
   "metadata": {
    "scrolled": false
   },
   "outputs": [],
   "source": [
    "ensemble.get_feat_importance(train_fy)"
   ]
  },
  {
   "cell_type": "markdown",
   "metadata": {},
   "source": [
    "## Validation "
   ]
  },
  {
   "cell_type": "code",
   "execution_count": null,
   "metadata": {},
   "outputs": [],
   "source": [
    "ensemble = Ensemble()\n",
    "ensemble.load('weights/test')"
   ]
  },
  {
   "cell_type": "code",
   "execution_count": null,
   "metadata": {},
   "outputs": [],
   "source": [
    "val_fy = FoldYielder(h5py.File(PATH/'val.hdf5', \"r+\"), cont_feats, cat_feats, ignore_feats=ignore_feats,\n",
    "                     input_pipe=input_pipe)"
   ]
  },
  {
   "cell_type": "code",
   "execution_count": null,
   "metadata": {
    "scrolled": false
   },
   "outputs": [],
   "source": [
    "ensemble.predict(val_fy)"
   ]
  },
  {
   "cell_type": "code",
   "execution_count": null,
   "metadata": {},
   "outputs": [],
   "source": [
    "df = val_fy.get_df(inc_inputs=True, deprocess=True)"
   ]
  },
  {
   "cell_type": "code",
   "execution_count": null,
   "metadata": {},
   "outputs": [],
   "source": [
    "df.head()"
   ]
  },
  {
   "cell_type": "code",
   "execution_count": null,
   "metadata": {},
   "outputs": [],
   "source": [
    "df['reco_delta'] = df['diH_mass']-df['gen_target']\n",
    "df['pred_delta'] = df['pred']-df['gen_target']\n",
    "df['reco_pull'] = df['reco_delta']/df['gen_target']\n",
    "df['pred_pull'] = df['pred_delta']/df['gen_target']"
   ]
  },
  {
   "cell_type": "code",
   "execution_count": null,
   "metadata": {
    "scrolled": false
   },
   "outputs": [],
   "source": [
    "from lumin.utils.statistics import bootstrap_stats\n",
    "from lumin.utils.multiprocessing import mp_run\n",
    "x = np.linspace(200, 1000, 500)\n",
    "x_delta = np.linspace(-300, 300, 500)\n",
    "x_pull = np.linspace(-1, 1, 500)\n",
    "\n",
    "bs_stats = mp_run([{'data':df.diH_mass, 'name':'reco', 'x':x, 'kde':1, 'mean':1, 'std':1},\n",
    "                   {'data':df.pred, 'name':'pred', 'x':x, 'kde':1, 'mean':1, 'std':1},\n",
    "                   {'data':df.gen_target, 'name':'gen', 'x':x, 'kde':1, 'mean':1, 'std':1},\n",
    "                   {'data':df.reco_delta, 'name':'reco_delta', 'x':x_delta, 'kde':1, 'mean':1, 'std':1},\n",
    "                   {'data':df.reco_pull, 'name':'reco_pull', 'x':x_pull, 'kde':1, 'mean':1, 'std':1},\n",
    "                   {'data':df.pred_delta, 'name':'pred_delta', 'x':x_delta, 'kde':1, 'mean':1, 'std':1},\n",
    "                   {'data':df.pred_pull, 'name':'pred_pull', 'x':x_pull, 'kde':1, 'mean':1, 'std':1}], bootstrap_stats)"
   ]
  },
  {
   "cell_type": "code",
   "execution_count": null,
   "metadata": {
    "scrolled": false
   },
   "outputs": [],
   "source": [
    "from lumin.plotting.data_viewing import plot_kdes_from_bs\n",
    "plot_kdes_from_bs(x, {s:bs_stats[s] for s in bs_stats if 'reco' in s or 'gen' in s or 'pred' in s},\n",
    "                  {'gen': {'condition': 'Generator truth', 'ci': 'sd'},\n",
    "                   'reco': {'condition': 'Reconstructed', 'ci': 'sd'},\n",
    "                   'pred': {'condition': 'Regressed', 'ci': 'sd'}},\n",
    "                  feat=r'$M_{hh}$', units='GeV')"
   ]
  },
  {
   "cell_type": "code",
   "execution_count": null,
   "metadata": {
    "scrolled": false
   },
   "outputs": [],
   "source": [
    "plot_kdes_from_bs(x, {s:bs_stats[s] for s in bs_stats if 'reco' in s or 'gen' in s or 'pred' in s},\n",
    "                  {'gen': {'condition': 'Generator truth', 'ci': 'sd'},\n",
    "                   'reco': {'condition': 'Reconstructed', 'ci': 'sd'},\n",
    "                   'pred': {'condition': 'Regressed', 'ci': 'sd'}},\n",
    "                  feat=r'$M_{hh}$', units='GeV')"
   ]
  },
  {
   "cell_type": "code",
   "execution_count": null,
   "metadata": {
    "scrolled": false
   },
   "outputs": [],
   "source": [
    "plot_kdes_from_bs(x_delta, {s:bs_stats[s] for s in bs_stats if 'delta' in s},\n",
    "                  {'reco_delta': {'condition': 'Reconstructed', 'ci': 'sd'},\n",
    "                   'pred_delta': {'condition': 'Regressed', 'ci': 'sd'}},\n",
    "                  feat=r'$\\Delta M_{hh}$', units='GeV')"
   ]
  },
  {
   "cell_type": "code",
   "execution_count": null,
   "metadata": {
    "scrolled": false
   },
   "outputs": [],
   "source": [
    "plot_kdes_from_bs(x_delta, {s:bs_stats[s] for s in bs_stats if 'delta' in s},\n",
    "                  {'reco_delta': {'condition': 'Reconstructed', 'ci': 'sd'},\n",
    "                   'pred_delta': {'condition': 'Regressed', 'ci': 'sd'}},\n",
    "                  feat=r'$\\Delta M_{hh}$', units='GeV')"
   ]
  },
  {
   "cell_type": "code",
   "execution_count": null,
   "metadata": {
    "scrolled": false
   },
   "outputs": [],
   "source": [
    "plot_kdes_from_bs(x_pull, {s:bs_stats[s] for s in bs_stats if 'pull' in s},\n",
    "                  {'reco_pull': {'condition': 'Reconstructed', 'ci': 'sd'},\n",
    "                   'pred_pull': {'condition': 'Regressed', 'ci': 'sd'}},\n",
    "                  feat=r'$\\Delta M_{hh}/M_{hh, \\mathrm{gen.}}$')"
   ]
  },
  {
   "cell_type": "code",
   "execution_count": null,
   "metadata": {
    "scrolled": false
   },
   "outputs": [],
   "source": [
    "plot_kdes_from_bs(x_pull, {s:bs_stats[s] for s in bs_stats if 'pull' in s},\n",
    "                  {'reco_pull': {'condition': 'Reconstructed', 'ci': 'sd'},\n",
    "                   'pred_pull': {'condition': 'Regressed', 'ci': 'sd'}},\n",
    "                  feat=r'$\\Delta M_{hh}/M_{hh, \\mathrm{gen.}}$')"
   ]
  },
  {
   "cell_type": "code",
   "execution_count": null,
   "metadata": {},
   "outputs": [],
   "source": []
  }
 ],
 "metadata": {
  "kernelspec": {
   "display_name": "Python 3",
   "language": "python",
   "name": "python3"
  },
  "language_info": {
   "codemirror_mode": {
    "name": "ipython",
    "version": 3
   },
   "file_extension": ".py",
   "mimetype": "text/x-python",
   "name": "python",
   "nbconvert_exporter": "python",
   "pygments_lexer": "ipython3",
   "version": "3.6.4"
  },
  "toc": {
   "base_numbering": 1,
   "nav_menu": {},
   "number_sections": true,
   "sideBar": true,
   "skip_h1_title": false,
   "title_cell": "Table of Contents",
   "title_sidebar": "Contents",
   "toc_cell": false,
   "toc_position": {},
   "toc_section_display": true,
   "toc_window_display": false
  }
 },
 "nbformat": 4,
 "nbformat_minor": 2
}
