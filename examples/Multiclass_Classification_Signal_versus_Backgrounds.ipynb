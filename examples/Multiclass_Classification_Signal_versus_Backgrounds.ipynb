{
 "cells": [
  {
   "cell_type": "markdown",
   "metadata": {},
   "source": [
    "# Multiclass classification from CSV file\n",
    "In this example we'll train a classifier to predict the process of events using the data from the [HiggsML Kaggle challenge](https://www.kaggle.com/c/higgs-boson) as a proxy to binary classification.\n",
    "1. Data is imported from CSV format\n",
    "1. Data is preprocessed\n",
    "1. Initial feature selection is performed\n",
    "1. An ensemble of SELU-based networks is trained with cosine-annealed learning rate using a categorical entity embedding and train-time data augmentation\n",
    "    - If the binary classification example is run first, then pretrained embedding weights are loaded and refined\n",
    "1. The resulting ensemble is evaluated on validation data using test-time data augmentation\n",
    "1. HEP-specific plotting and discriminant binning is presented\n",
    "1. The model is interpreted via feature importance, embedding examination, and partial dependencies\n",
    "\n",
    "We'll use the version of the data available from the [CERN OpenData portal](http://opendata.cern.ch/record/328?ln=en), however it is also available from [Kaggle](https://www.kaggle.com/c/higgs-boson). Alternatively, uncomment and run the cell below:"
   ]
  },
  {
   "cell_type": "code",
   "execution_count": 1,
   "metadata": {},
   "outputs": [],
   "source": [
    "#!mkdir data\n",
    "#!wget -O data/atlas-higgs-challenge-2014-v2.csv.gz http://opendata.cern.ch/record/328/files/atlas-higgs-challenge-2014-v2.csv.gz\n",
    "#!gunzip data/atlas-higgs-challenge-2014-v2.csv.gz"
   ]
  },
  {
   "cell_type": "markdown",
   "metadata": {},
   "source": [
    "If running in Google Collab, uncomment and run the cell below to install LUMIN"
   ]
  },
  {
   "cell_type": "code",
   "execution_count": 2,
   "metadata": {},
   "outputs": [],
   "source": [
    "if 'google.colab' in str(get_ipython()):\n",
    "    !pip install lumin"
   ]
  },
  {
   "cell_type": "markdown",
   "metadata": {},
   "source": [
    "### Basic Modules"
   ]
  },
  {
   "cell_type": "code",
   "execution_count": 3,
   "metadata": {},
   "outputs": [],
   "source": [
    "import pandas as pd\n",
    "import numpy as np\n",
    "import os\n",
    "import h5py\n",
    "import pickle"
   ]
  },
  {
   "cell_type": "code",
   "execution_count": 4,
   "metadata": {},
   "outputs": [],
   "source": [
    "from pathlib import Path\n",
    "PATH = Path('./data')"
   ]
  },
  {
   "cell_type": "markdown",
   "metadata": {},
   "source": [
    "## Data preparation"
   ]
  },
  {
   "cell_type": "markdown",
   "metadata": {},
   "source": [
    "### Data import from CSV file \n",
    "Read file into a pandas dataframe."
   ]
  },
  {
   "cell_type": "code",
   "execution_count": 5,
   "metadata": {},
   "outputs": [],
   "source": [
    "data = pd.read_csv(PATH/'atlas-higgs-challenge-2014-v2.csv')"
   ]
  },
  {
   "cell_type": "code",
   "execution_count": 6,
   "metadata": {},
   "outputs": [
    {
     "data": {
      "text/html": [
       "<div>\n",
       "<style scoped>\n",
       "    .dataframe tbody tr th:only-of-type {\n",
       "        vertical-align: middle;\n",
       "    }\n",
       "\n",
       "    .dataframe tbody tr th {\n",
       "        vertical-align: top;\n",
       "    }\n",
       "\n",
       "    .dataframe thead th {\n",
       "        text-align: right;\n",
       "    }\n",
       "</style>\n",
       "<table border=\"1\" class=\"dataframe\">\n",
       "  <thead>\n",
       "    <tr style=\"text-align: right;\">\n",
       "      <th></th>\n",
       "      <th>EventId</th>\n",
       "      <th>DER_mass_MMC</th>\n",
       "      <th>DER_mass_transverse_met_lep</th>\n",
       "      <th>DER_mass_vis</th>\n",
       "      <th>DER_pt_h</th>\n",
       "      <th>DER_deltaeta_jet_jet</th>\n",
       "      <th>DER_mass_jet_jet</th>\n",
       "      <th>DER_prodeta_jet_jet</th>\n",
       "      <th>DER_deltar_tau_lep</th>\n",
       "      <th>DER_pt_tot</th>\n",
       "      <th>...</th>\n",
       "      <th>PRI_jet_leading_eta</th>\n",
       "      <th>PRI_jet_leading_phi</th>\n",
       "      <th>PRI_jet_subleading_pt</th>\n",
       "      <th>PRI_jet_subleading_eta</th>\n",
       "      <th>PRI_jet_subleading_phi</th>\n",
       "      <th>PRI_jet_all_pt</th>\n",
       "      <th>Weight</th>\n",
       "      <th>Label</th>\n",
       "      <th>KaggleSet</th>\n",
       "      <th>KaggleWeight</th>\n",
       "    </tr>\n",
       "  </thead>\n",
       "  <tbody>\n",
       "    <tr>\n",
       "      <th>0</th>\n",
       "      <td>100000</td>\n",
       "      <td>138.470</td>\n",
       "      <td>51.655</td>\n",
       "      <td>97.827</td>\n",
       "      <td>27.980</td>\n",
       "      <td>0.91</td>\n",
       "      <td>124.711</td>\n",
       "      <td>2.666</td>\n",
       "      <td>3.064</td>\n",
       "      <td>41.928</td>\n",
       "      <td>...</td>\n",
       "      <td>2.150</td>\n",
       "      <td>0.444</td>\n",
       "      <td>46.062</td>\n",
       "      <td>1.24</td>\n",
       "      <td>-2.475</td>\n",
       "      <td>113.497</td>\n",
       "      <td>0.000814</td>\n",
       "      <td>s</td>\n",
       "      <td>t</td>\n",
       "      <td>0.002653</td>\n",
       "    </tr>\n",
       "    <tr>\n",
       "      <th>1</th>\n",
       "      <td>100001</td>\n",
       "      <td>160.937</td>\n",
       "      <td>68.768</td>\n",
       "      <td>103.235</td>\n",
       "      <td>48.146</td>\n",
       "      <td>-999.00</td>\n",
       "      <td>-999.000</td>\n",
       "      <td>-999.000</td>\n",
       "      <td>3.473</td>\n",
       "      <td>2.078</td>\n",
       "      <td>...</td>\n",
       "      <td>0.725</td>\n",
       "      <td>1.158</td>\n",
       "      <td>-999.000</td>\n",
       "      <td>-999.00</td>\n",
       "      <td>-999.000</td>\n",
       "      <td>46.226</td>\n",
       "      <td>0.681042</td>\n",
       "      <td>b</td>\n",
       "      <td>t</td>\n",
       "      <td>2.233584</td>\n",
       "    </tr>\n",
       "    <tr>\n",
       "      <th>2</th>\n",
       "      <td>100002</td>\n",
       "      <td>-999.000</td>\n",
       "      <td>162.172</td>\n",
       "      <td>125.953</td>\n",
       "      <td>35.635</td>\n",
       "      <td>-999.00</td>\n",
       "      <td>-999.000</td>\n",
       "      <td>-999.000</td>\n",
       "      <td>3.148</td>\n",
       "      <td>9.336</td>\n",
       "      <td>...</td>\n",
       "      <td>2.053</td>\n",
       "      <td>-2.028</td>\n",
       "      <td>-999.000</td>\n",
       "      <td>-999.00</td>\n",
       "      <td>-999.000</td>\n",
       "      <td>44.251</td>\n",
       "      <td>0.715742</td>\n",
       "      <td>b</td>\n",
       "      <td>t</td>\n",
       "      <td>2.347389</td>\n",
       "    </tr>\n",
       "    <tr>\n",
       "      <th>3</th>\n",
       "      <td>100003</td>\n",
       "      <td>143.905</td>\n",
       "      <td>81.417</td>\n",
       "      <td>80.943</td>\n",
       "      <td>0.414</td>\n",
       "      <td>-999.00</td>\n",
       "      <td>-999.000</td>\n",
       "      <td>-999.000</td>\n",
       "      <td>3.310</td>\n",
       "      <td>0.414</td>\n",
       "      <td>...</td>\n",
       "      <td>-999.000</td>\n",
       "      <td>-999.000</td>\n",
       "      <td>-999.000</td>\n",
       "      <td>-999.00</td>\n",
       "      <td>-999.000</td>\n",
       "      <td>-0.000</td>\n",
       "      <td>1.660654</td>\n",
       "      <td>b</td>\n",
       "      <td>t</td>\n",
       "      <td>5.446378</td>\n",
       "    </tr>\n",
       "    <tr>\n",
       "      <th>4</th>\n",
       "      <td>100004</td>\n",
       "      <td>175.864</td>\n",
       "      <td>16.915</td>\n",
       "      <td>134.805</td>\n",
       "      <td>16.405</td>\n",
       "      <td>-999.00</td>\n",
       "      <td>-999.000</td>\n",
       "      <td>-999.000</td>\n",
       "      <td>3.891</td>\n",
       "      <td>16.405</td>\n",
       "      <td>...</td>\n",
       "      <td>-999.000</td>\n",
       "      <td>-999.000</td>\n",
       "      <td>-999.000</td>\n",
       "      <td>-999.00</td>\n",
       "      <td>-999.000</td>\n",
       "      <td>0.000</td>\n",
       "      <td>1.904263</td>\n",
       "      <td>b</td>\n",
       "      <td>t</td>\n",
       "      <td>6.245333</td>\n",
       "    </tr>\n",
       "  </tbody>\n",
       "</table>\n",
       "<p>5 rows × 35 columns</p>\n",
       "</div>"
      ],
      "text/plain": [
       "   EventId  DER_mass_MMC  DER_mass_transverse_met_lep  DER_mass_vis  DER_pt_h  \\\n",
       "0   100000       138.470                       51.655        97.827    27.980   \n",
       "1   100001       160.937                       68.768       103.235    48.146   \n",
       "2   100002      -999.000                      162.172       125.953    35.635   \n",
       "3   100003       143.905                       81.417        80.943     0.414   \n",
       "4   100004       175.864                       16.915       134.805    16.405   \n",
       "\n",
       "   DER_deltaeta_jet_jet  DER_mass_jet_jet  DER_prodeta_jet_jet  \\\n",
       "0                  0.91           124.711                2.666   \n",
       "1               -999.00          -999.000             -999.000   \n",
       "2               -999.00          -999.000             -999.000   \n",
       "3               -999.00          -999.000             -999.000   \n",
       "4               -999.00          -999.000             -999.000   \n",
       "\n",
       "   DER_deltar_tau_lep  DER_pt_tot  ...  PRI_jet_leading_eta  \\\n",
       "0               3.064      41.928  ...                2.150   \n",
       "1               3.473       2.078  ...                0.725   \n",
       "2               3.148       9.336  ...                2.053   \n",
       "3               3.310       0.414  ...             -999.000   \n",
       "4               3.891      16.405  ...             -999.000   \n",
       "\n",
       "   PRI_jet_leading_phi  PRI_jet_subleading_pt  PRI_jet_subleading_eta  \\\n",
       "0                0.444                 46.062                    1.24   \n",
       "1                1.158               -999.000                 -999.00   \n",
       "2               -2.028               -999.000                 -999.00   \n",
       "3             -999.000               -999.000                 -999.00   \n",
       "4             -999.000               -999.000                 -999.00   \n",
       "\n",
       "   PRI_jet_subleading_phi  PRI_jet_all_pt    Weight  Label  KaggleSet  \\\n",
       "0                  -2.475         113.497  0.000814      s          t   \n",
       "1                -999.000          46.226  0.681042      b          t   \n",
       "2                -999.000          44.251  0.715742      b          t   \n",
       "3                -999.000          -0.000  1.660654      b          t   \n",
       "4                -999.000           0.000  1.904263      b          t   \n",
       "\n",
       "   KaggleWeight  \n",
       "0      0.002653  \n",
       "1      2.233584  \n",
       "2      2.347389  \n",
       "3      5.446378  \n",
       "4      6.245333  \n",
       "\n",
       "[5 rows x 35 columns]"
      ]
     },
     "execution_count": 6,
     "metadata": {},
     "output_type": "execute_result"
    }
   ],
   "source": [
    "data.head()"
   ]
  },
  {
   "cell_type": "code",
   "execution_count": 7,
   "metadata": {},
   "outputs": [],
   "source": [
    "data.drop(columns=['Weight'], inplace=True)\n",
    "data['Label'] = data['Label'].map({'s':1, 'b':0})\n",
    "data.rename(index=str, columns={\"KaggleWeight\": \"gen_weight\", 'PRI_met': 'PRI_met_pt', 'Label':'gen_target'}, inplace=True)\n",
    "\n",
    "df = pd.DataFrame(data.loc[data.KaggleSet == 't'])\n",
    "df.drop(columns=['KaggleSet'], inplace=True)\n",
    "    \n",
    "test = pd.DataFrame(data.loc[(data.KaggleSet == 'b') | (data.KaggleSet == 'v')])\n",
    "test['private'] = 0\n",
    "test.loc[(data.KaggleSet == 'v'), 'private'] = 1\n",
    "test.drop(columns=['KaggleSet'], inplace=True)"
   ]
  },
  {
   "cell_type": "markdown",
   "metadata": {},
   "source": [
    "### Preprocessing\n",
    "Having imported the data, we now need to further process it into form suitable for training the classifier.\n",
    "\n",
    "We can start by moving a Cartesian coordinate system; the HEP standard of $p_T,\\ \\eta,\\ \\phi$ can be a bit tricky, since $\\phi$ is cyclical in nature, and $\\eta$ is highly non-linear. Additionally, since the class of each event is invariant under transformations of the absolute orientation of each event, we can remove several symetries in the data by rotating each event to have the same orientation. However, in this example we will leave will instead randomly rotate the event during training and testing (train-time/test-time data augmentation).\n",
    "\n",
    "`proc_event` has options to set all events to have `ref_vec_0` at $\\phi=0$ and be always in the positive $\\eta$ region. The remaining symmetry of transverse reflection can be fixed by setting `ref_vec_1` to be in the positive $\\phi$ region. The vectors can then transformed into Cartesian system via `use_cartesian` flag. The original vectors are automatically dropped, but can be kept if added to `keep_feat`. It can sometimes be useful to keep the absolute amount of $p_T^{\\mathrm{miss}}$, since this is now non-linear combination of $p_x^{\\mathrm{miss}}$ and $p_y^{\\mathrm{miss}}$.\n",
    "\n",
    "Additionally, we'll process the default values for missing jets (-999.0) to NaNs to avoid them biasing our preprocessing."
   ]
  },
  {
   "cell_type": "code",
   "execution_count": 8,
   "metadata": {},
   "outputs": [
    {
     "name": "stdout",
     "output_type": "stream",
     "text": [
      "['EventId', 'DER_mass_MMC', 'DER_mass_transverse_met_lep', 'DER_mass_vis', 'DER_pt_h', 'DER_deltaeta_jet_jet', 'DER_mass_jet_jet', 'DER_prodeta_jet_jet', 'DER_deltar_tau_lep', 'DER_pt_tot', 'DER_sum_pt', 'DER_pt_ratio_lep_tau', 'DER_met_phi_centrality', 'DER_lep_eta_centrality', 'PRI_tau_pt', 'PRI_tau_eta', 'PRI_tau_phi', 'PRI_lep_pt', 'PRI_lep_eta', 'PRI_lep_phi', 'PRI_met_pt', 'PRI_met_phi', 'PRI_met_sumet', 'PRI_jet_num', 'PRI_jet_leading_pt', 'PRI_jet_leading_eta', 'PRI_jet_leading_phi', 'PRI_jet_subleading_pt', 'PRI_jet_subleading_eta', 'PRI_jet_subleading_phi', 'PRI_jet_all_pt', 'gen_target', 'gen_weight']\n"
     ]
    }
   ],
   "source": [
    "print([f for f in df.columns])"
   ]
  },
  {
   "cell_type": "code",
   "execution_count": 9,
   "metadata": {},
   "outputs": [
    {
     "name": "stdout",
     "output_type": "stream",
     "text": [
      "Converting to use Cartesian coordinates\n",
      "Converting to use Cartesian coordinates\n"
     ]
    }
   ],
   "source": [
    "from lumin.data_processing.hep_proc import proc_event\n",
    "proc_event(df, use_cartesian=True, default_vals=[-999.0], keep_feats=['PRI_met_pt'])\n",
    "proc_event(test, use_cartesian=True, default_vals=[-999.0], keep_feats=['PRI_met_pt'])"
   ]
  },
  {
   "cell_type": "markdown",
   "metadata": {},
   "source": [
    "For quick access, we'll define here all the sets of features we'll later want use."
   ]
  },
  {
   "cell_type": "code",
   "execution_count": 10,
   "metadata": {},
   "outputs": [
    {
     "name": "stdout",
     "output_type": "stream",
     "text": [
      "1 ['PRI_jet_num']\n",
      "30 ['DER_mass_MMC', 'DER_mass_transverse_met_lep', 'DER_mass_vis', 'DER_pt_h', 'DER_deltaeta_jet_jet', 'DER_mass_jet_jet', 'DER_prodeta_jet_jet', 'DER_deltar_tau_lep', 'DER_pt_tot', 'DER_sum_pt', 'DER_pt_ratio_lep_tau', 'DER_met_phi_centrality', 'DER_lep_eta_centrality', 'PRI_met_sumet', 'PRI_jet_all_pt', 'PRI_jet_leading_px', 'PRI_jet_leading_py', 'PRI_jet_leading_pz', 'PRI_met_px', 'PRI_met_py', 'PRI_lep_px', 'PRI_lep_py', 'PRI_lep_pz', 'PRI_tau_px', 'PRI_tau_py', 'PRI_tau_pz', 'PRI_jet_subleading_px', 'PRI_jet_subleading_py', 'PRI_jet_subleading_pz', 'PRI_met_pt']\n"
     ]
    }
   ],
   "source": [
    "gen_feats = [f for f in df.columns if 'gen_' in f]\n",
    "misc_feats = ['EventId']\n",
    "wgt_feat = 'gen_weight'\n",
    "cat_feats = ['PRI_jet_num']\n",
    "cont_feats = [f for f in df.columns if f not in gen_feats+cat_feats+misc_feats]\n",
    "print(len(cat_feats), cat_feats)\n",
    "print(len(cont_feats), cont_feats)\n",
    "train_feats = cont_feats + cat_feats"
   ]
  },
  {
   "cell_type": "markdown",
   "metadata": {},
   "source": [
    "To create our validation set, we'll eventually pull out a random sample, however it can be useful to ensure as much similarity as possible by doing a stratified split using the categories and classes in the data. `ids2unique` maps each set of categories to a unique integer, allowing us to create a single set of values to use as the stratification key."
   ]
  },
  {
   "cell_type": "code",
   "execution_count": 11,
   "metadata": {},
   "outputs": [],
   "source": [
    "from lumin.utils.misc import ids2unique\n",
    "\n",
    "df['gen_strat_key'] = ids2unique(df[['gen_target'] + cat_feats].values)"
   ]
  },
  {
   "cell_type": "code",
   "execution_count": 12,
   "metadata": {},
   "outputs": [],
   "source": [
    "df.replace([np.inf, -np.inf], np.nan, inplace=True)\n",
    "test.replace([np.inf, -np.inf], np.nan, inplace=True)"
   ]
  },
  {
   "cell_type": "code",
   "execution_count": 13,
   "metadata": {},
   "outputs": [
    {
     "data": {
      "text/plain": [
       "['DER_mass_MMC',\n",
       " 'DER_deltaeta_jet_jet',\n",
       " 'DER_mass_jet_jet',\n",
       " 'DER_prodeta_jet_jet',\n",
       " 'DER_lep_eta_centrality',\n",
       " 'PRI_jet_leading_px',\n",
       " 'PRI_jet_leading_py',\n",
       " 'PRI_jet_leading_pz',\n",
       " 'PRI_jet_subleading_px',\n",
       " 'PRI_jet_subleading_py',\n",
       " 'PRI_jet_subleading_pz']"
      ]
     },
     "execution_count": 13,
     "metadata": {},
     "output_type": "execute_result"
    }
   ],
   "source": [
    "df.columns[df.isna().any()].tolist()"
   ]
  },
  {
   "cell_type": "code",
   "execution_count": 14,
   "metadata": {},
   "outputs": [
    {
     "data": {
      "text/plain": [
       "['DER_mass_MMC',\n",
       " 'DER_deltaeta_jet_jet',\n",
       " 'DER_mass_jet_jet',\n",
       " 'DER_prodeta_jet_jet',\n",
       " 'DER_lep_eta_centrality',\n",
       " 'PRI_jet_leading_px',\n",
       " 'PRI_jet_leading_py',\n",
       " 'PRI_jet_leading_pz',\n",
       " 'PRI_jet_subleading_px',\n",
       " 'PRI_jet_subleading_py',\n",
       " 'PRI_jet_subleading_pz']"
      ]
     },
     "execution_count": 14,
     "metadata": {},
     "output_type": "execute_result"
    }
   ],
   "source": [
    "test.columns[test.isna().any()].tolist()"
   ]
  },
  {
   "cell_type": "markdown",
   "metadata": {},
   "source": [
    "We've got some NaNs in the data, however this is due to non-existent jets, float precision, and algorithm non-convergence. `FoldYielder` automatically applies`np.nan_to_num` so no worries."
   ]
  },
  {
   "cell_type": "markdown",
   "metadata": {},
   "source": [
    "#### Train-validation split "
   ]
  },
  {
   "cell_type": "code",
   "execution_count": 15,
   "metadata": {},
   "outputs": [],
   "source": [
    "from sklearn.model_selection import train_test_split \n",
    "\n",
    "val_sz = 0.2\n",
    "train_df, val_df = train_test_split(df, test_size=val_sz, stratify=df.gen_strat_key, random_state=42)"
   ]
  },
  {
   "cell_type": "markdown",
   "metadata": {},
   "source": [
    "Having pulled out a stratified random subsample, we can check whether it really is representative of the train data (and our test set if we have one) by seeing whether we can use the input features to identify which dataset each event belongs to. If there our some features which allow the sets to be identified, then we could remove them from the inputs to improve the generalisation of the model.\n",
    "\n",
    "`check_val_set` runs some random forests to try and predict the originating datasets of the events, and then returns the area under the ROC curve for the classifiers. Ideally this should be 0.5, indicating it can only do as well as random guessing. Training and inference use weights to account for the fact that the datasets may have uneven populations."
   ]
  },
  {
   "cell_type": "code",
   "execution_count": 16,
   "metadata": {},
   "outputs": [
    {
     "name": "stdout",
     "output_type": "stream",
     "text": [
      "\n",
      "AUC for train-validation discrimination = 0.5004251993505133\n",
      "Top 10 most important features are:\n",
      "   index                Feature  Importance\n",
      "0      0               DER_pt_h    0.003861\n",
      "1      1    DER_prodeta_jet_jet    0.002491\n",
      "2      2             PRI_tau_px    0.001868\n",
      "3      3             PRI_lep_pz    0.001743\n",
      "4      4             PRI_tau_pz    0.001494\n",
      "5      5           DER_mass_vis    0.001494\n",
      "6      6  PRI_jet_subleading_pz    0.001245\n",
      "7      7     PRI_jet_leading_pz    0.000996\n",
      "8      8  PRI_jet_subleading_px    0.000996\n",
      "9      9   DER_deltaeta_jet_jet    0.000872\n",
      "\n",
      "AUC for test-validation discrimination = 0.49993103003849937\n",
      "Top 10 most important features are:\n",
      "   index                      Feature  Importance\n",
      "0      0         DER_pt_ratio_lep_tau    0.002059\n",
      "1      1                   PRI_lep_px    0.001842\n",
      "2      2                 DER_mass_vis    0.001733\n",
      "3      3                   PRI_tau_pz    0.001733\n",
      "4      4               PRI_jet_all_pt    0.001625\n",
      "5      5       DER_met_phi_centrality    0.001300\n",
      "6      6                   PRI_tau_px    0.001300\n",
      "7      7                PRI_met_sumet    0.001300\n",
      "8      8  DER_mass_transverse_met_lep    0.000867\n",
      "9      9         DER_deltaeta_jet_jet    0.000758\n"
     ]
    }
   ],
   "source": [
    "from lumin.utils.data import check_val_set\n",
    "\n",
    "check_val_set(train_df[train_feats], val_df[train_feats], test[train_feats])"
   ]
  },
  {
   "cell_type": "markdown",
   "metadata": {},
   "source": [
    "#### Final preprocessing\n",
    "The network weights will use initialisation schemes which expect the inputs to be unit Gaussian. We'll use sklearn pipelines to package transformations which alter the data to have mean zero and standard deviation one."
   ]
  },
  {
   "cell_type": "code",
   "execution_count": 17,
   "metadata": {},
   "outputs": [],
   "source": [
    "from lumin.data_processing.pre_proc import fit_input_pipe\n",
    "\n",
    "input_pipe = fit_input_pipe(train_df, cont_feats, PATH/'input_pipe')"
   ]
  },
  {
   "cell_type": "code",
   "execution_count": 18,
   "metadata": {},
   "outputs": [],
   "source": [
    "train_df[cont_feats] = input_pipe.transform(train_df[cont_feats])\n",
    "val_df[cont_feats] = input_pipe.transform(val_df[cont_feats])\n",
    "test[cont_feats] = input_pipe.transform(test[cont_feats])"
   ]
  },
  {
   "cell_type": "markdown",
   "metadata": {},
   "source": [
    "Since we'll be using entity embeddings for the categorical features, we want to transform their codes to start from zero and increase incrementaly. We also need to make sure the validation (and test) sets receive the same transformaitions as the training set.\n",
    "\n",
    "`proc_cats` does this and returns dictionaries of the both the mapping that was applied, and the cardinality of each feature."
   ]
  },
  {
   "cell_type": "code",
   "execution_count": 19,
   "metadata": {},
   "outputs": [
    {
     "data": {
      "text/plain": [
       "(OrderedDict([('PRI_jet_num', {0: 0, 1: 1, 2: 2, 3: 3})]),\n",
       " OrderedDict([('PRI_jet_num', 4)]))"
      ]
     },
     "execution_count": 19,
     "metadata": {},
     "output_type": "execute_result"
    }
   ],
   "source": [
    "from lumin.data_processing.pre_proc import proc_cats\n",
    "\n",
    "cat_maps, cat_szs = proc_cats(train_df, cat_feats, val_df, test)\n",
    "cat_maps, cat_szs"
   ]
  },
  {
   "cell_type": "markdown",
   "metadata": {},
   "source": [
    "### Sample splitting\n",
    "We know that the signal data consists of a single sample ($h\\rightarrow\\tau\\tau$) and that the background contains three different samples: $t\\bar{t}$, $W$-boson, and $Z\\rightarrow\\tau\\tau$. However we aren't explicitly told which sample each event belongs to. Nevertheless, we can cluster events using their weight:"
   ]
  },
  {
   "cell_type": "code",
   "execution_count": 20,
   "metadata": {},
   "outputs": [
    {
     "data": {
      "image/png": "[encoded data removed]",
      "text/plain": [
       "<Figure size 1422.22x800 with 1 Axes>"
      ]
     },
     "metadata": {},
     "output_type": "display_data"
    }
   ],
   "source": [
    "from lumin.plotting.data_viewing import plot_feat\n",
    "\n",
    "plot_feat(df[df.gen_target==0], 'gen_weight')"
   ]
  },
  {
   "cell_type": "markdown",
   "metadata": {},
   "source": [
    "Well, there are _basically_ three clusters there. Enough to work for this example, anyway. Let's cluster using _k_-means:"
   ]
  },
  {
   "cell_type": "code",
   "execution_count": 22,
   "metadata": {},
   "outputs": [],
   "source": [
    "from sklearn.cluster import k_means\n",
    "\n",
    "cluster = k_means(X=train_df.loc[train_df.gen_target == 0, 'gen_weight'].values[:,None], n_clusters=3)\n",
    "train_df.loc[train_df.gen_target == 0, 'gen_sample'] = cluster[1]\n",
    "train_df.loc[train_df.gen_target == 1, 'gen_sample'] = 3\n",
    "val_df.loc[val_df.gen_target == 0, 'gen_sample'] = abs(val_df.loc[val_df.gen_target == 0, 'gen_weight'].values[None,:]-cluster[0][:,None]).argmin(axis=0)[0]\n",
    "val_df.loc[val_df.gen_target == 1, 'gen_sample'] = 3"
   ]
  },
  {
   "cell_type": "markdown",
   "metadata": {},
   "source": [
    "Lets check some of the features. `plot_feat` is a flexible function to provide indicative information about the 1D distribution of a feature. By default it will produce a weighted KDE+histogram for the [1,99] percentile of the data, as well as compute the mean and standard deviation of the data in this region. By passing a list of cuts and labels, it will plot multiple distributions of the same feature for different cuts. Since it is designed to provide quick, indicative information, more specific functions (such as `plot_kdes_from_bs`) should be used to provide final results."
   ]
  },
  {
   "cell_type": "code",
   "execution_count": 23,
   "metadata": {},
   "outputs": [
    {
     "data": {
      "image/png": "[encoded data removed]",
      "text/plain": [
       "<Figure size 1422.22x800 with 1 Axes>"
      ]
     },
     "metadata": {},
     "output_type": "display_data"
    }
   ],
   "source": [
    "from lumin.plotting.data_viewing import plot_feat\n",
    "plot_feat(train_df, 'DER_mass_MMC', cuts=[(train_df.gen_sample==s) for s in sorted(set(train_df.gen_sample))],\n",
    "          labels=[str(s) for s in sorted(set(train_df.gen_sample))], show_moments=True)\n"
   ]
  },
  {
   "cell_type": "markdown",
   "metadata": {},
   "source": [
    "We can also view this feature as a stacked histogram, with background (samples 0,1,2 stacked together) and signal (sample 3)."
   ]
  },
  {
   "cell_type": "code",
   "execution_count": 37,
   "metadata": {},
   "outputs": [],
   "source": [
    "from typing import Any, Dict, List, Optional, Tuple, Union\n",
    "\n",
    "import matplotlib.pyplot as plt\n",
    "import numpy as np\n",
    "import pandas as pd\n",
    "import scipy\n",
    "import seaborn as sns\n",
    "from scipy.cluster import hierarchy as hc\n",
    "\n",
    "from lumin.utils.statistics import get_moments, uncert_round\n",
    "from lumin.plotting.plot_settings import PlotSettings\n",
    "\n",
    "def plot_binary_sample_feat(\n",
    "    df: pd.DataFrame,\n",
    "    feat: str,\n",
    "    targ_name: str = \"gen_target\",\n",
    "    wgt_name: str = \"gen_weight\",\n",
    "    sample_name: str = \"gen_sample\",\n",
    "    wgt_scale: float = 1,\n",
    "    bins: Optional[Union[int, List[int]]] = None,\n",
    "    log_y: bool = False,\n",
    "    lim_x: Optional[Tuple[float, float]] = None,\n",
    "    density=True,\n",
    "    feat_name: Optional[str] = None,\n",
    "    units: Optional[str] = None,\n",
    "    savename: Optional[str] = None,\n",
    "    settings: PlotSettings = PlotSettings(),\n",
    ") -> None:\n",
    "    r\"\"\"\n",
    "    More advanced plotter for feature distributions in a binary class problem with stacked distributions for backgrounds and user-defined binning\n",
    "    Note that plotting colours can be controled by seeting the settings.sample2col dictionary\n",
    "\n",
    "    Arguments:\n",
    "        df: DataFrame with targets and predictions\n",
    "        feat: name of column to plot the distribution of\n",
    "        targ_name: name of column to use as targets\n",
    "        wgt_name: name of column to use as sample weights\n",
    "        sample_name: name of column to use as process names\n",
    "        wgt_scale: applies a global multiplicative rescaling to sample weights. Default 1 = no rescaling. Only applicable when density = False\n",
    "        bins: either the number of bins to use for a uniform binning, or a list of bin edges for a variable-width binning\n",
    "        log_y: whether to use a log scale for the y-axis\n",
    "        lim_x: limit for plotting on the x-axis\n",
    "        density: whether to normalise each distribution to one, or keep set to sum of weights / datapoints\n",
    "        feat_name: Name of feature to put on x-axis, can be in LaTeX.\n",
    "        units: units used to measure feature, if applicable. Can be in LaTeX, but should not include '$'.\n",
    "        savename: Optional name of file to which to save the plot of feature importances\n",
    "        settings: :class:`~lumin.plotting.plot_settings.PlotSettings` class to control figure appearance\n",
    "    \"\"\"\n",
    "\n",
    "    def _get_samples(df: pd.DataFrame, sample_name: str, wgt_name: str):\n",
    "        \"\"\"Returns set of samples present in df ordered by sum of weights\"\"\"\n",
    "        samples = set(df[sample_name])\n",
    "        weights = [np.sum(df[df[sample_name] == sample][wgt_name]) for sample in samples]\n",
    "        return [x[0] for x in np.array(sorted(zip(samples, weights), key=lambda x: x[1]))]\n",
    "\n",
    "    sig, bkg = (df[targ_name] == 1), (df[targ_name] == 0)\n",
    "    if not isinstance(bins, list):\n",
    "        bins = np.linspace(df[feat].min(), df[feat].max(), bins if isinstance(bins, int) else 20)\n",
    "    hist_params = {\"range\": lim_x, \"bins\": bins, \"density\": density, \"alpha\": 0.8, \"stacked\": True, \"rwidth\": 1.0}\n",
    "    sig_samples = _get_samples(df[sig], sample_name, wgt_name)\n",
    "    bkg_samples = _get_samples(df[bkg], sample_name, wgt_name)\n",
    "    sample2col = {k: v for v, k in enumerate(bkg_samples)} if settings.sample2col is None else settings.sample2col\n",
    "\n",
    "    with (\n",
    "        sns.axes_style(**settings.style),\n",
    "        sns.color_palette(settings.cat_palette, 1 + max([sample2col[x] for x in sample2col])),\n",
    "    ):\n",
    "        fig, ax = plt.subplots(figsize=(settings.w_mid, settings.h_mid))\n",
    "        ax.hist(\n",
    "            [df[df[sample_name] == sample][feat] for sample in bkg_samples],\n",
    "            weights=[wgt_scale * df[df[sample_name] == sample][wgt_name] for sample in bkg_samples],\n",
    "            label=bkg_samples,\n",
    "            color=[sns.color_palette()[sample2col[s]] for s in bkg_samples],\n",
    "            **hist_params,\n",
    "        )\n",
    "\n",
    "        for sample in sig_samples:\n",
    "            ax.hist(\n",
    "                df[df[sample_name] == sample][feat],\n",
    "                weights=wgt_scale * df[df[sample_name] == sample][wgt_name],\n",
    "                label=sample,\n",
    "                histtype=\"step\",\n",
    "                linewidth=3,\n",
    "                color=\"black\",\n",
    "                **hist_params,\n",
    "            )\n",
    "\n",
    "        ax.legend(loc=settings.leg_loc, fontsize=settings.leg_sz)\n",
    "        if lim_x is not None:\n",
    "            ax.set_xlim(*lim_x)\n",
    "        ax.tick_params(axis=\"x\", labelsize=settings.tk_sz, labelcolor=settings.tk_col)\n",
    "        ax.tick_params(axis=\"y\", labelsize=settings.tk_sz, labelcolor=settings.tk_col)\n",
    "        x_lbl = feat if feat_name is None else feat_name\n",
    "        y_lbl = r\"$\\frac{d\\left(\\mathcal{A}\\sigma\\right)}{dx}$\"\n",
    "        if units is not None:\n",
    "            x_lbl += r\"$\\ [\" + units + r\"]$\"\n",
    "            y_lbl += r\"$\\ [\" + units + r\"^{-1}]$\"\n",
    "        ax.xaxis.set_label_text(x_lbl, fontsize=settings.lbl_sz, color=settings.lbl_col)\n",
    "        if density:\n",
    "            ax.yaxis.set_label_text(\n",
    "                r\"$\\frac{1}{\\mathcal{A}\\sigma}$\" + y_lbl, fontsize=settings.lbl_sz, color=settings.lbl_col\n",
    "            )\n",
    "        else:\n",
    "            ax.yaxis.set_label_text(\n",
    "                r\"$\\mathcal{L}_{\\mathrm{int.}}\\times$\" + y_lbl, fontsize=settings.lbl_sz, color=settings.lbl_col\n",
    "            )\n",
    "        if log_y:\n",
    "            ax.set_yscale(\"log\")\n",
    "            ax.grid(True, which=\"both\")\n",
    "        ax.set_title(settings.title, fontsize=settings.title_sz, color=settings.title_col, loc=settings.title_loc)\n",
    "        if savename is not None:\n",
    "            plt.savefig(settings.savepath / f\"{savename}{settings.format}\", bbox_inches=\"tight\")\n",
    "        fig.show()\n"
   ]
  },
  {
   "cell_type": "code",
   "execution_count": 38,
   "metadata": {
    "scrolled": false
   },
   "outputs": [
    {
     "data": {
      "image/png": "[encoded data removed]",
      "text/plain": [
       "<Figure size 1422.22x800 with 1 Axes>"
      ]
     },
     "metadata": {},
     "output_type": "display_data"
    }
   ],
   "source": [
    "from lumin.plotting.data_viewing import plot_binary_sample_feat\n",
    "\n",
    "plot_binary_sample_feat(train_df, 'DER_mass_MMC', sample_name='gen_sample', bins=50,\n",
    "                        lim_x=np.percentile(train_df.DER_mass_MMC.replace([np.inf,-np.inf],np.nan).dropna(),(1,99)),\n",
    "                        feat_name=r'$M_{hh,\\mathrm{MMC}}$', units='GeV', density=True, log_y=False)"
   ]
  },
  {
   "cell_type": "markdown",
   "metadata": {},
   "source": [
    "### Weight processing\n",
    "The data contains weights which are important to consider as they indicate which events are the most important to consider and are necessary to correctly compute the AMS at the end. However the data also contains an imbalance between the classes in terms of raw event numbers. We can correct for this imbalance by renormalising the weights such that the sum for each class is equal, however since we might also want to compute the AMS on the training data, we'll make a copy of the column first."
   ]
  },
  {
   "cell_type": "code",
   "execution_count": 25,
   "metadata": {},
   "outputs": [
    {
     "data": {
      "text/plain": [
       "3.9999999999999996"
      ]
     },
     "execution_count": 25,
     "metadata": {},
     "output_type": "execute_result"
    }
   ],
   "source": [
    "train_df['gen_orig_weight'] = train_df['gen_weight']\n",
    "for s in set(train_df.gen_sample):\n",
    "    train_df.loc[train_df.gen_sample == s, 'gen_weight'] /= np.sum(train_df.loc[train_df.gen_sample == s, 'gen_weight'])\n",
    "train_df.gen_weight.sum()"
   ]
  },
  {
   "cell_type": "markdown",
   "metadata": {},
   "source": [
    "### Conversion to fold file "
   ]
  },
  {
   "cell_type": "markdown",
   "metadata": {},
   "source": [
    "Having finished processing the data, we can now save it to h5py files in a format that `FoldYielder` will expect."
   ]
  },
  {
   "cell_type": "code",
   "execution_count": 26,
   "metadata": {},
   "outputs": [],
   "source": [
    "targ_feat = 'gen_sample'"
   ]
  },
  {
   "cell_type": "code",
   "execution_count": 27,
   "metadata": {},
   "outputs": [
    {
     "name": "stdout",
     "output_type": "stream",
     "text": [
      "Saving fold 0 with 20000 events\n",
      "Saving fold 1 with 20000 events\n",
      "Saving fold 2 with 20000 events\n",
      "Saving fold 3 with 20000 events\n",
      "Saving fold 4 with 20000 events\n",
      "Saving fold 5 with 20000 events\n",
      "Saving fold 6 with 20000 events\n",
      "Saving fold 7 with 20000 events\n",
      "Saving fold 8 with 20000 events\n",
      "Saving fold 9 with 20000 events\n"
     ]
    },
    {
     "name": "stderr",
     "output_type": "stream",
     "text": [
      "rm: cannot remove 'data/train.hdf5': No such file or directory\n"
     ]
    }
   ],
   "source": [
    "from lumin.data_processing.file_proc import df2foldfile\n",
    "\n",
    "df2foldfile(df=train_df, n_folds=10,\n",
    "            cont_feats=cont_feats, cat_feats=cat_feats, cat_maps=cat_maps, targ_feats=targ_feat,\n",
    "            wgt_feat=wgt_feat, misc_feats=misc_feats+['gen_orig_weight', 'gen_target'],\n",
    "            savename=PATH/'train', targ_type='float32', strat_key='gen_strat_key')"
   ]
  },
  {
   "cell_type": "code",
   "execution_count": null,
   "metadata": {},
   "outputs": [],
   "source": [
    "df2foldfile(df=val_df, n_folds=10,\n",
    "            cont_feats=cont_feats, cat_feats=cat_feats, cat_maps=cat_maps, targ_feats=targ_feat,\n",
    "            wgt_feat=wgt_feat, misc_feats=misc_feats+['gen_target'],\n",
    "            savename=PATH/'val', targ_type='float32', strat_key='gen_strat_key')"
   ]
  },
  {
   "cell_type": "code",
   "execution_count": null,
   "metadata": {},
   "outputs": [],
   "source": [
    "df2foldfile(df=test, n_folds=10,\n",
    "            cont_feats=cont_feats, cat_feats=cat_feats, cat_maps=cat_maps, targ_feats='gen_target',\n",
    "            wgt_feat=wgt_feat, misc_feats=misc_feats+['private'],\n",
    "            savename=PATH/'test', targ_type='float32')"
   ]
  },
  {
   "cell_type": "markdown",
   "metadata": {},
   "source": [
    "## Feature selection"
   ]
  },
  {
   "cell_type": "markdown",
   "metadata": {},
   "source": [
    "Currently we're using all of the available information from the ROOT file, however it contains an awful lot of high-level features which may not be useful for the regression. We can run a few checks to try and filter out the uneeded features. For a more in depth look into feature selection check out the `Feature_Selection.ipynb` example.\n",
    "\n",
    "`FoldYielder` is the base class we'll use to pull data from the h5py file. We can also recover the original dataframe via `get_df`, and de-process it by adding the input pipe."
   ]
  },
  {
   "cell_type": "code",
   "execution_count": null,
   "metadata": {},
   "outputs": [],
   "source": [
    "from lumin.nn.data.fold_yielder import FoldYielder\n",
    "\n",
    "train_fy = FoldYielder(PATH/'train.hdf5', input_pipe=input_pipe)\n",
    "train_df = train_fy.get_df(inc_inputs=True, deprocess=True, nan_to_num=True); train_df.head()"
   ]
  },
  {
   "cell_type": "markdown",
   "metadata": {},
   "source": [
    "We'll also want to split off another, temporary validation set"
   ]
  },
  {
   "cell_type": "code",
   "execution_count": null,
   "metadata": {},
   "outputs": [],
   "source": [
    "df_trn, df_val = train_test_split(train_df, test_size=0.2)"
   ]
  },
  {
   "cell_type": "markdown",
   "metadata": {},
   "source": [
    "We're mainly interested in filtering down the high-level features, and will assume that the random forests we'll be using will not be able to make as much use of the lower level information as the neural networks will, so we'll only test the high level features and add regularisation as necessary later."
   ]
  },
  {
   "cell_type": "code",
   "execution_count": null,
   "metadata": {},
   "outputs": [],
   "source": [
    "vec_feats = []\n",
    "for c in ['px', 'py', 'pz', 'mass']:\n",
    "    vec_feats += [f for f in train_feats if f == f'{f[:f.rfind(\"_\")+1]}{c}']\n",
    "len(vec_feats)"
   ]
  },
  {
   "cell_type": "code",
   "execution_count": null,
   "metadata": {},
   "outputs": [],
   "source": [
    "hl_feats = [f for f in train_feats if f not in vec_feats]; len(hl_feats)"
   ]
  },
  {
   "cell_type": "markdown",
   "metadata": {},
   "source": [
    "Let's see which of the high-level features the RFs find useful. `rf_rank_features` wraps rfpimp and initially trains a RF using the data and evaluates it on the validation set. It then sequentially makes a copy of the data and randomises the order of one of the features and then reevaluates the model performance, and compares it to the original score. If their is a large decrease in the score, then the feature which was randomised was very important in the model. If there is only a small decrease (or increase) in the score, then the feature was not important. \n",
    "\n",
    "Having established the importance of the features, `rf_rank_features` then runs another training only using the features with importances higher the the `cut` argument. If there is no decrease in the score, the ignored features can probably be safely removed."
   ]
  },
  {
   "cell_type": "code",
   "execution_count": null,
   "metadata": {
    "scrolled": false
   },
   "outputs": [],
   "source": [
    "from lumin.optimisation.features import rf_rank_features\n",
    "import_feats = rf_rank_features(df_trn, df_val, objective='classification', train_feats=hl_feats,\n",
    "                                importance_cut=0.001, n_rfs=5, wgt_name='gen_weight')"
   ]
  },
  {
   "cell_type": "markdown",
   "metadata": {},
   "source": [
    "## Train classifier\n",
    "\n",
    "Now we're ready to begin training the network-based classifier."
   ]
  },
  {
   "cell_type": "markdown",
   "metadata": {},
   "source": [
    "### Data augmentation\n",
    "We'll load the data using a specialised `FoldYielder` designed to provide the event rotations we want."
   ]
  },
  {
   "cell_type": "code",
   "execution_count": null,
   "metadata": {},
   "outputs": [],
   "source": [
    "from lumin.nn.data.fold_yielder import HEPAugFoldYielder\n",
    "\n",
    "train_fy = HEPAugFoldYielder(PATH/'train.hdf5', rot_mult=2)"
   ]
  },
  {
   "cell_type": "markdown",
   "metadata": {},
   "source": [
    "During training, this will randomly rotate the event in phi, randomly flip it in the y-axis, and randomly flip it in the z-axis. Lets view a few possible examples of the same event."
   ]
  },
  {
   "cell_type": "code",
   "execution_count": null,
   "metadata": {},
   "outputs": [],
   "source": [
    "from lumin.plotting.data_viewing import compare_events\n",
    "\n",
    "idx=3\n",
    "compare_events([pd.DataFrame(train_fy.get_fold(0)['inputs'], columns=train_feats)[idx:idx+1] for i in range(4)])"
   ]
  },
  {
   "cell_type": "markdown",
   "metadata": {},
   "source": [
    "During testing it will provide versions of each possible combination of flips for 2 set rotations."
   ]
  },
  {
   "cell_type": "code",
   "execution_count": null,
   "metadata": {
    "scrolled": false
   },
   "outputs": [],
   "source": [
    "for aug_range in [range(4), range(4,8)]:\n",
    "    compare_events([pd.DataFrame(train_fy.get_test_fold(0, i)['inputs'], columns=train_feats)[idx:idx+1] for i in aug_range])"
   ]
  },
  {
   "cell_type": "markdown",
   "metadata": {},
   "source": [
    "Here we define the architecture of the models, and how we want to train them. `ModelBuilder` takes arguments to define the network, loss, optimiser, and inputs and outputs and can then create networks on demand. These networks are provided as properties of the `Model` class which contains methods to train them, evaluate, predict, save/load, et cetera.\n",
    "### ModelBuilder\n",
    "Most of the parameters will use default values if not provided explicitly which can be viewed in the source code, e.g. `ModelBuilder._parse_loss`, `ModelBuilder._parse_model_args`, and `ModelBuilder._parse_opt_args`.\n",
    "#### Architecture\n",
    "The network consists of three parts: A head, which takes the inputs to the network; a body, which contains the majority of the hidden layers; and a tail which downscales the output of the body to match the desired number of outputs. The classes used for each can be specified \n",
    "\n",
    "By default the head is `CatEmbHead` which provides [entity embeddings](https://arxiv.org/abs/1604.06737) for categorical features (embedding sizes can be configured manually, or left as default `max(50,cardinality//2)`), and then a batch normalisation with the continuous inputs, with separate dropouts for embeddings and continuous inputs. More advanced classes, can be passed to the `ModelBuilder` head argument, or `ModelBuilder.get_head` overridden in an inheriting class. An `CatEmbedder` class is needed to provide the necessary parameters for the embeddings. They can either be instantiated from the training `FoldYielder`, or by manually providing the required information.\n",
    "\n",
    "The default body is a simple sequence of hidden layers (`FullyConnected`). These layers can optionally have dropout, batch normalisation, skip connections (residual network), or cumulative concatenations (dense network). The choice of class is set by `ModelBuldier`'s `body` argument, and built by `ModelBuilder.get_body`.\n",
    "\n",
    "The tail (default `ClassRegMulti` set by `tail` argument/`ModelBuilder.get_tail`) uses a final dense layer to scale down the body output to match `n_out` and then applies an automatically selected activation according to `objective`:\n",
    "- 'class*' or 'labelclass*' = sigmoid\n",
    "- 'multiclass' = logsoftmax\n",
    "- 'regression' and not `y_range` = linear\n",
    "- 'regression' and `y_range` = sigmoid + offset and rescaling\n",
    "#### Loss\n",
    "This can either be passed as the `loss` argument of `ModelBuilder`, or be left to be automatically chosen according to `objective`:\n",
    "- 'class*' or 'labelclass*' = Binary cross-entropy (`nn.BCELoss`)\n",
    "- 'multiclass' = Weighted cross-entropy (`WeightedCCE`)\n",
    "- 'regression' = Weighted mean-squared error (`WeightedMSE`, (`WeightedMAE` also exists but must be explicitly passed))\n",
    "\n",
    "**N.B.** If a loss class is passed explicitly, it should be uninitialised to allow weights to be correctly handled.\n",
    "\n",
    "`ModelBuilder.parse_loss` handles the automatic loss configuration.\n",
    "#### Optimiser\n",
    "Configured by `opt_args` argument of `ModelBuilder`, `ModelBuidler._parse_opt_args`, and `ModelBuilder._build_opt`. Currently only SGD and Adam are available by passing string representations, however more exotic optimisers can be set by passing uninstanciated classes as the `opt_args['opt']` parameter. Choices of weight decay should be added in `opt_args`. The Learning rate can be set later via `ModelBuilder.set_lr`.es of weight decay should be added in `opt_args`. The Learning rate can be set later via `ModelBuilder.set_lr`.\n",
    "\n",
    "#### Architecture\n",
    "For our example architecture we'll use SELU-based 4-layer network of width 100. We'll also load in the embedding weights for the jet multiplicity which were learnt during the binary classification example (`'emb_load_path':Path('weights')` in `cat_args`)."
   ]
  },
  {
   "cell_type": "code",
   "execution_count": null,
   "metadata": {},
   "outputs": [],
   "source": [
    "from lumin.nn.models.model_builder import ModelBuilder\n",
    "from lumin.nn.models.model import Model\n",
    "import torch.nn as nn\n",
    "from lumin.nn.models.helpers import CatEmbedder\n",
    "\n",
    "bs = 256\n",
    "objective = 'multiclass_classifier'\n",
    "model_args = {'body':{'act':'selu', 'width':100, 'depth':4}}\n",
    "opt_args = {'opt':'adam', 'eps':1e-08}\n",
    "cat_embedder = CatEmbedder.from_fy(train_fy, emb_load_path=Path('weights'))\n",
    "\n",
    "n_out = 4\n",
    "model_builder = ModelBuilder(objective, cont_feats=cont_feats, n_out=n_out, cat_embedder=cat_embedder,\n",
    "                             model_args=model_args, opt_args=opt_args)\n",
    "Model(model_builder)"
   ]
  },
  {
   "cell_type": "markdown",
   "metadata": {},
   "source": [
    "The learning rate can be quickly optimised via the [LR range test](https://arxiv.org/abs/1506.01186). This involves gradually increasing the LR from a small value to a lrage one after each minibatch update and then plotting the loss as a function of the LR. One can expect to see an initial period of slow, or nonexistant, loss decrease where the LR is far too small. Eventully the LR becomes large enough to allow useful weigh updates (loss decreases). Eventually the LR becomes so large the network diverges (loss platues then increases). The optimal LR is the highest one at which the loss is still decreasing.\n",
    "\n",
    "To allow for the randomness between different network trainings and data, `lr_find`, runs several trainings using different folds of the data and then plots the mean and standard deviation of the loss."
   ]
  },
  {
   "cell_type": "code",
   "execution_count": null,
   "metadata": {},
   "outputs": [],
   "source": [
    "from lumin.optimisation.hyper_param import lr_find\n",
    "\n",
    "lr_finder = lr_find(train_fy, model_builder, bs, lr_bounds=[1e-5,1e-1], train_on_weights=True)"
   ]
  },
  {
   "cell_type": "markdown",
   "metadata": {},
   "source": [
    "Looks like somewhere around 2e-3 should be good."
   ]
  },
  {
   "cell_type": "markdown",
   "metadata": {},
   "source": [
    "The training function takes several sets of callbacks, ways to alter the model's training schedule, to report more specialised results, to affect the earlystopping, and to keep track of model weights.\n",
    "\n",
    "For this example we'll train an ensemble of 3 models trained using [SGD with warm-restarts](https://arxiv.org/abs/1608.03983) following a cosine-annealed learning rate with a cycle multiplicity of 2.\n",
    "\n",
    "We'll also add an evaluation metric to compute the AMS on the validation folds. However, since the classifier is predicting the sample each event belongs to, we need to condense the output back to a binary prediction. Note that we tell the AMS calculation to load the original weights, and tell it the total number of events in the sample. This allows the weights to be rescaled to account for the fact that the AMS will be calculated only on the validation folds, which are much smaller than the full training sample. `br=10` is a factor included in the HiggsML competition.\n",
    "\n",
    "However unlike in other examples where we could confidently select models according to the metric computed on the validation data, the AMS really needs to computed on a large sample to be accurate, otherwise it is subject to statistical fluctuations. I.e. we want to ensure that early stopping and save best are computed using the loss but we still want to compute the AMS. Do do this, we can set `main_metric` to `False`."
   ]
  },
  {
   "cell_type": "code",
   "execution_count": null,
   "metadata": {},
   "outputs": [],
   "source": [
    "from lumin.nn.callbacks.cyclic_callbacks import CycleLR\n",
    "from lumin.nn.metrics.class_eval import MultiAMS\n",
    "from functools import partial\n",
    "\n",
    "n_models = 3\n",
    "patience = 1  # One entire LR cycle without improvement\n",
    "n_epochs = 15\n",
    "\n",
    "cb_partials = [partial(CycleLR, lr_range=(0, 1e-3), cycle_mult=2)]\n",
    "metric_partials = [partial(MultiAMS, n_total=250000, br=10,\n",
    "                           zero_preds=['pred_0', 'pred_1', 'pred_2'], one_preds=['pred_3'],\n",
    "                           targ_name='gen_target', wgt_name='gen_orig_weight', main_metric=False)]"
   ]
  },
  {
   "cell_type": "markdown",
   "metadata": {},
   "source": [
    "`train_models` performs training of (an ensemble of) models produced by the `ModelBuilder` using data provided by a `FoldYielder`. Model training  runs for upto `max_epochs` number of epochs, or until `patience` number of cycles have elapsed with out an improvement of the validation loss. The model is then saved to `saveloc` to be loaded later. The function returns results of the training and model perfomance on validation fold. If an `AbsCyclicCallback` is used, then snapshots of the model weights are automatically saved after each cycle to allow for [Snapshot Ensembling](https://arxiv.org/abs/1704.00109) or [Fast Geometric Ensembling](https://arxiv.org/abs/1802.10026)."
   ]
  },
  {
   "cell_type": "code",
   "execution_count": null,
   "metadata": {
    "scrolled": false
   },
   "outputs": [],
   "source": [
    "from lumin.nn.training.train import train_models\n",
    "\n",
    "results, histories, cycle_losses = train_models(train_fy,  # Training data\n",
    "                                                n_models,  # Number of models to train\n",
    "                                                model_builder=model_builder,  # How to build models, losses, and optimisers\n",
    "                                                bs=bs,  # Batch size\n",
    "                                                cb_partials=cb_partials,  # List of uninitialised callbacks\n",
    "                                                metric_partials=metric_partials,  # Pass our evaluation metrics\n",
    "                                                n_epochs=n_epochs,  # Maximum number of epochs to train\n",
    "                                                patience=patience)  # If not None, stop training if validation loss doesn't improve after set number of epochs (automatic save best)"
   ]
  },
  {
   "cell_type": "markdown",
   "metadata": {},
   "source": [
    "## Ensemble loading\n",
    "We can now build an ensemble from the trained models, however rather than simply treating them all equally, we can weight them according to some metric (e.g. AMS, reciprocal of loss)."
   ]
  },
  {
   "cell_type": "code",
   "execution_count": null,
   "metadata": {},
   "outputs": [],
   "source": [
    "with open('train_weights/results_file.pkl', 'rb') as fin: results = pickle.load(fin)"
   ]
  },
  {
   "cell_type": "code",
   "execution_count": null,
   "metadata": {},
   "outputs": [],
   "source": [
    "model_builder.cat_embedder.emb_load_path = None  # Don't load old embedding weights"
   ]
  },
  {
   "cell_type": "code",
   "execution_count": null,
   "metadata": {},
   "outputs": [],
   "source": [
    "from lumin.nn.ensemble.ensemble import Ensemble\n",
    "\n",
    "ensemble = Ensemble.from_results(results, n_models, model_builder, metric='loss')"
   ]
  },
  {
   "cell_type": "markdown",
   "metadata": {},
   "source": [
    "The default location is likely to be overwritten, so we can save it to a more permanent location."
   ]
  },
  {
   "cell_type": "code",
   "execution_count": null,
   "metadata": {},
   "outputs": [],
   "source": [
    "name = 'weights/Multiclass_Classification'\n",
    "ensemble.save(name, feats=train_feats, overwrite=True)"
   ]
  },
  {
   "cell_type": "markdown",
   "metadata": {},
   "source": [
    "## Validation without TTA\n",
    "Now we can test how well our ensemble performs on our validation set. We'll run first without test-time data augmentation (TTA)."
   ]
  },
  {
   "cell_type": "code",
   "execution_count": null,
   "metadata": {},
   "outputs": [],
   "source": [
    "from lumin.nn.data.fold_yielder import FoldYielder\n",
    "\n",
    "val_fy = FoldYielder(PATH/'val.hdf5', cont_feats, cat_feats)"
   ]
  },
  {
   "cell_type": "code",
   "execution_count": null,
   "metadata": {},
   "outputs": [],
   "source": [
    "ensemble.predict(val_fy)"
   ]
  },
  {
   "cell_type": "markdown",
   "metadata": {},
   "source": [
    "Remember we need to load the original class for the target, rather than the sample. We can then use `to_binary_class` to map the sample predictions to signal and background:\n",
    "- sample = argmax pred_*\n",
    "- pred = pred if sample == signal else 1-pred"
   ]
  },
  {
   "cell_type": "code",
   "execution_count": null,
   "metadata": {},
   "outputs": [],
   "source": [
    "from lumin.utils.misc import to_binary_class\n",
    "\n",
    "val_df = val_fy.get_df(targ_name='gen_target')\n",
    "to_binary_class(val_df, ['pred_0', 'pred_1', 'pred_2'], ['pred_3']); val_df.head()"
   ]
  },
  {
   "cell_type": "markdown",
   "metadata": {},
   "source": [
    "In the HiggsML challenge, prediction on the test set requires specifying whether each event is signal or background, meaning we need to apply a cut on our class prediction. We could simply scan across the events in the validation sample and see where the AMS is maximised, (not we apply a weight factor to account for the difference between our validation sample and the full training sample):"
   ]
  },
  {
   "cell_type": "code",
   "execution_count": null,
   "metadata": {},
   "outputs": [],
   "source": [
    "from lumin.evaluation.ams import ams_scan_slow\n",
    "ams_scan_slow(val_df, br=10, wgt_factor=250000/50000, start_cut=0.8)"
   ]
  },
  {
   "cell_type": "markdown",
   "metadata": {},
   "source": [
    "A maximum AMS of 3.89 for a cut of 0.852; not as good a result as we had for the binary classification version, but it's still an interesting approach and this only meant to be an example of multiclass classification anyway.\n",
    "\n",
    "The maximum AMS is a tricky metric that can easily be affected by statistical fluctuations due to limited data. It is extremely likely that event though we are getting this result on unseen data, it will not generalise very well. Instead we want to try and capture the general trend of the AMS and place our cut in the approximate region of high performance, rather than picking exactly where the AMS happened to maximise on our data. I've experimented with numerous approaches (bootstrap resampling, cross-validation, KDEs, et cetera) and found that so far the most generalising method is to rank points by events by their AMS, and then take the mean prediction of the top few percent as the cut."
   ]
  },
  {
   "cell_type": "code",
   "execution_count": null,
   "metadata": {},
   "outputs": [],
   "source": [
    "from lumin.optimisation.threshold import binary_class_cut_by_ams\n",
    "\n",
    "cut, smooth_ams, max_ams = binary_class_cut_by_ams(val_df, min_pred=0.8, top_perc=5, br=10, wgt_factor=250000/50000)"
   ]
  },
  {
   "cell_type": "markdown",
   "metadata": {},
   "source": [
    "So, the AMS has dropped to 3.86, but hopefully the cut might generalise better to the test data"
   ]
  },
  {
   "cell_type": "markdown",
   "metadata": {},
   "source": [
    "## Validation with TTA\n",
    "Now we'll see whether TTA can improve our result."
   ]
  },
  {
   "cell_type": "code",
   "execution_count": null,
   "metadata": {},
   "outputs": [],
   "source": [
    "val_fy = HEPAugFoldYielder(PATH/'val.hdf5', rot_mult=2, input_pipe=input_pipe)"
   ]
  },
  {
   "cell_type": "markdown",
   "metadata": {},
   "source": [
    "Note that prediction using `HEPAugFoldYielder` predicts each event 8 times, once on each augmented version, and takes the average. We'll also specify a name for the prediction to saved under to avoid overwriting the non-TTA predictions."
   ]
  },
  {
   "cell_type": "code",
   "execution_count": null,
   "metadata": {},
   "outputs": [],
   "source": [
    "ensemble.predict(val_fy, pred_name='pred_TTA')"
   ]
  },
  {
   "cell_type": "code",
   "execution_count": null,
   "metadata": {},
   "outputs": [],
   "source": [
    "val_df_tta = val_fy.get_df(pred_name='pred_TTA', targ_name='gen_target')\n",
    "to_binary_class(val_df_tta, [f'pred_{i}' for i in range(3)], ['pred_3']); val_df_tta.head()"
   ]
  },
  {
   "cell_type": "code",
   "execution_count": null,
   "metadata": {},
   "outputs": [],
   "source": [
    "cut_tta, smooth_ams_tta, max_ams_tta = binary_class_cut_by_ams(val_df_tta, min_pred=0.8, top_perc=5, br=10,\n",
    "                                                               wgt_factor=250000/50000)"
   ]
  },
  {
   "cell_type": "markdown",
   "metadata": {},
   "source": [
    "Slight change when we run TTA. We can also plot the prediction distribution:"
   ]
  },
  {
   "cell_type": "code",
   "execution_count": null,
   "metadata": {},
   "outputs": [],
   "source": [
    "from lumin.plotting.results import plot_binary_class_pred\n",
    "\n",
    "plot_binary_class_pred(val_df_tta, wgt_name='gen_weight', density=False, log_y=True)"
   ]
  },
  {
   "cell_type": "markdown",
   "metadata": {},
   "source": [
    "## Plotting\n",
    "In a real HEP search, one might well wish to instead plot the discriminant split by sample. We'll load up the samples, rename them to something more meaningful (just guessing the order I'm afraid), and use `plot_sample_pred` to get a more flexible histogram."
   ]
  },
  {
   "cell_type": "code",
   "execution_count": null,
   "metadata": {},
   "outputs": [],
   "source": [
    "val_df_tta['gen_sample'] = val_fy.get_column('targets'); val_df_tta.head()"
   ]
  },
  {
   "cell_type": "code",
   "execution_count": null,
   "metadata": {},
   "outputs": [],
   "source": [
    "samples = [x[0] for x in np.array(sorted(zip(range(3), [val_df_tta.loc[val_df_tta['gen_sample']==y, 'gen_weight'].sum() for y in range(3)]), key=lambda x: x[1]))]\n",
    "for i, s in enumerate(samples):\n",
    "    if   i == 0: val_df_tta.loc[val_df_tta['gen_sample']==s, 'gen_sample'] = r'$W$-boson'\n",
    "    elif i == 1: val_df_tta.loc[val_df_tta['gen_sample']==s, 'gen_sample'] = r'$Z\\rightarrow\\tau\\bar{\\tau}$'\n",
    "    elif i == 2: val_df_tta.loc[val_df_tta['gen_sample']==s, 'gen_sample'] = r'$t\\bar{t}$'\n",
    "val_df_tta.loc[val_df_tta['gen_sample']==3, 'gen_sample'] = r'Signal: $H\\rightarrow\\tau\\bar{\\tau}$'\n",
    "val_df_tta.head()"
   ]
  },
  {
   "cell_type": "code",
   "execution_count": null,
   "metadata": {},
   "outputs": [],
   "source": [
    "from lumin.plotting.results import plot_sample_pred\n",
    "\n",
    "plot_sample_pred(val_df_tta)"
   ]
  },
  {
   "cell_type": "markdown",
   "metadata": {},
   "source": [
    "Although not required for the HiggsML challenge, rather than simply cutting on the class prediction to get a signal bin for the signal hypothesis test (cut & count), one could instead use the shape of the distributions (shape analysis). The power of the analysis can be expected to increase with the number of bins used to capture the shape of the distributions, however one must consider the uncertainties on the bin fills due to limited Monte Carlo data being used to populate them. We can use `bin_binary_class_pred` to optimise the bin edges such that the uncertainty on the normalisation per bin per sample is kept below a specified percentage:"
   ]
  },
  {
   "cell_type": "code",
   "execution_count": null,
   "metadata": {},
   "outputs": [],
   "source": [
    "from lumin.inference.summary_stat import bin_binary_class_pred\n",
    "\n",
    "edges = bin_binary_class_pred(val_df_tta, max_unc=0.15)\n",
    "print(len(edges)-1, 'bins, with edges:', edges)"
   ]
  },
  {
   "cell_type": "markdown",
   "metadata": {},
   "source": [
    "We can now pass these edges to our plotting function:"
   ]
  },
  {
   "cell_type": "code",
   "execution_count": null,
   "metadata": {},
   "outputs": [],
   "source": [
    "plot_sample_pred(val_df_tta, bins=edges)"
   ]
  },
  {
   "cell_type": "markdown",
   "metadata": {},
   "source": [
    "Probably not necessary here, but just to show it off, we can set a plot title and zoom into sections of the distribution:"
   ]
  },
  {
   "cell_type": "code",
   "execution_count": null,
   "metadata": {},
   "outputs": [],
   "source": [
    "from lumin.plotting.plot_settings import PlotSettings\n",
    "\n",
    "settings = PlotSettings(w_mid=20, h_mid=10, title=r'$\\mathbf{CATLAS}\\ \\mathit{Run}-\\alpha$' + '\\t' + r'$3\\,fb^{-1}\\ (8\\, TeV)$')\n",
    "plot_sample_pred(val_df_tta, bins=edges, settings=settings, lim_x=(0,1.3),\n",
    "                 zoom_args={'x':(0.4,0.45), 'y':(0.2, 1500), 'anchor':(0,0.25,0.95,1),\n",
    "                            'width_scale':1, 'width_zoom':4, 'height_zoom':3})"
   ]
  },
  {
   "cell_type": "markdown",
   "metadata": {},
   "source": [
    "## Interpretation \n",
    "It could be interesting to see what the multiclass approach learns differently to the binary classification method."
   ]
  },
  {
   "cell_type": "markdown",
   "metadata": {},
   "source": [
    "### Feature importance\n",
    "In the same way as we used permutation importance to rank features with random forests, we can use the same technique to rank features with our ensemble."
   ]
  },
  {
   "cell_type": "code",
   "execution_count": null,
   "metadata": {},
   "outputs": [],
   "source": [
    "_ = ensemble.get_feat_importance(train_fy)"
   ]
  },
  {
   "cell_type": "markdown",
   "metadata": {},
   "source": [
    "Interestingly, the ensemble relies on a mixture of high- and low-level features, with a slightly supressed spread of importances.\n",
    "\n",
    "Currently, we're measuring importance via changes in weighted categorical cross-entropy. Instead we can get the effect on the AMS by passing an `eval_metric`, (this takes a while, though)."
   ]
  },
  {
   "cell_type": "code",
   "execution_count": null,
   "metadata": {},
   "outputs": [],
   "source": [
    "from lumin.nn.metrics.class_eval import AMS\n",
    "\n",
    "_ = ensemble.get_feat_importance(train_fy, eval_metric=MultiAMS(n_total=250000, br=10,\n",
    "                                    zero_preds=['pred_0', 'pred_1', 'pred_2'], one_preds=['pred_3'],\n",
    "                                    targ_name='gen_target', wgt_name='gen_orig_weight'))"
   ]
  },
  {
   "cell_type": "markdown",
   "metadata": {},
   "source": [
    "Ok, so the classifier really does make use of a range of features."
   ]
  },
  {
   "cell_type": "markdown",
   "metadata": {},
   "source": [
    "### Embeddings\n",
    "We treated the number of jets (`PRI_jet_num`) as a categorical feature, but rather than one-hot encode it, we used an [entity embedding](https://arxiv.org/abs/1604.06737) matrix to learn a more optimal representation. We can take a look at this matrix and see what was learnt. If the binary classification example was ran first, then we would have loaded the initial embedding weights from a saved file, so we can also examine whether new weights were learnt, or if they remained similar."
   ]
  },
  {
   "cell_type": "code",
   "execution_count": null,
   "metadata": {},
   "outputs": [],
   "source": [
    "_, m = ensemble[0]"
   ]
  },
  {
   "cell_type": "code",
   "execution_count": null,
   "metadata": {},
   "outputs": [],
   "source": [
    "m.head.plot_embeds()"
   ]
  },
  {
   "cell_type": "code",
   "execution_count": null,
   "metadata": {},
   "outputs": [],
   "source": [
    "from lumin.plotting.interpretation import plot_embedding\n",
    "import torch\n",
    "\n",
    "plot_embedding(torch.load('weights/PRI_jet_num.h5', map_location='cpu'), 'PRI_jet_num')"
   ]
  },
  {
   "cell_type": "markdown",
   "metadata": {},
   "source": [
    "The embedding weights seem to be relatively similar, and the jet multiplicity was ranked pretty high in importance, so we can assume that the weights offer a good encoding for the feature."
   ]
  },
  {
   "cell_type": "markdown",
   "metadata": {},
   "source": [
    "### Partial dependence\n",
    "Another way to use our model rather than simply making decisions based the data, is to use to to better understand the data itself. In business, one could predict the influence that any handles that are available could have on some outcome. In high-energy physics, our available handles are quite limited; the collider is already built and difficult to modify. However it could be useful to have some information available to inform future decisions, or know where to concentrate algorithm development.\n",
    "\n",
    "An example of how we can additionally use our model is plot the partial dependencies of the prediction on (pairs of) features. Basically this means taking a feature and working out how the prediction changes if everything else is kept the same and only the given feature is altered. `plot_1d_partial_dependence` and `plot_2d_partial_dependence` are wrapper functions for PDPbox, to handle the fact that our model expects pre-processed inputs, but we'd like to see the original data.\n",
    "\n",
    "The PDPbox methods, however, only works for models with a single output, so we'll add an endcap to the model, to reduce the predictions to binary. Endcaps take a model as a parameter and then pass inputs to it, and then apply a function to the model outputs."
   ]
  },
  {
   "cell_type": "code",
   "execution_count": null,
   "metadata": {},
   "outputs": [],
   "source": [
    "from lumin.nn.models.blocks.endcap import AbsEndcap\n",
    "from torch import Tensor\n",
    "import torch\n",
    "\n",
    "class Multiclass2Binary(AbsEndcap):\n",
    "    @staticmethod\n",
    "    def func(x:Tensor) -> Tensor:\n",
    "        x = torch.exp(x)\n",
    "        zero = torch.max(x[:,0:3], dim=1)[0]\n",
    "        tup = torch.cat((zero[:,None], x[:,3][:,None]), dim=1)\n",
    "        preds = torch.max(tup, dim=1)\n",
    "        preds[0][preds[1]==0] = 1-preds[0][preds[1]==0]\n",
    "        return preds[0]"
   ]
  },
  {
   "cell_type": "code",
   "execution_count": null,
   "metadata": {},
   "outputs": [],
   "source": [
    "m = ensemble[0][1]\n",
    "data = val_fy.get_fold(0)['inputs']"
   ]
  },
  {
   "cell_type": "code",
   "execution_count": null,
   "metadata": {},
   "outputs": [],
   "source": [
    "df = pd.DataFrame(m.predict(data), columns=[f'{x}' for x in range(4)])\n",
    "to_binary_class(df, [f'{x}' for x in range(3)], ['3'])"
   ]
  },
  {
   "cell_type": "code",
   "execution_count": null,
   "metadata": {},
   "outputs": [],
   "source": [
    "endcap = Multiclass2Binary(m)\n",
    "df['pred_2'] = endcap.predict(data)"
   ]
  },
  {
   "cell_type": "code",
   "execution_count": null,
   "metadata": {},
   "outputs": [],
   "source": [
    "df.head()"
   ]
  },
  {
   "cell_type": "markdown",
   "metadata": {},
   "source": [
    "Seems to be working"
   ]
  },
  {
   "cell_type": "code",
   "execution_count": null,
   "metadata": {},
   "outputs": [],
   "source": [
    "from lumin.plotting.interpretation import plot_1d_partial_dependence, plot_2d_partial_dependence"
   ]
  },
  {
   "cell_type": "code",
   "execution_count": null,
   "metadata": {},
   "outputs": [],
   "source": [
    "train_fy.add_input_pipe_from_file('data/input_pipe.pkl')\n",
    "train_df = train_fy.get_df(inc_inputs=True, nan_to_num=True)"
   ]
  },
  {
   "cell_type": "code",
   "execution_count": null,
   "metadata": {},
   "outputs": [],
   "source": [
    "plot_1d_partial_dependence(endcap, df=train_df, feat='DER_mass_MMC', train_feats=train_feats, input_pipe=input_pipe,\n",
    "                           sample_sz=2000, wgt_name='gen_weight', y_lim=[0,1],\n",
    "                           pdp_isolate_kargs={'percentile_range':(1,99)})"
   ]
  },
  {
   "cell_type": "markdown",
   "metadata": {},
   "source": [
    "Here we plotted the partial dependence of the Higgs mass on the class prediction. This involved taking each event and changing the `DER_mass_MMC` to different values, whilst keeping all the other features the same, and feeding the altered events through our model and tracking the prediction changes. Rather than plotting one line for each event, they are instead clustered into 10 'types' of event.\n",
    "\n",
    "Nearly all lines increase towards a signal prediction around the Higgs mass (125), but some lines rise earlier, or later. The yellow line indicates the median event.\n",
    "\n",
    "We can try other features, too:"
   ]
  },
  {
   "cell_type": "code",
   "execution_count": null,
   "metadata": {},
   "outputs": [],
   "source": [
    "plot_1d_partial_dependence(endcap, df=train_df, feat='DER_mass_transverse_met_lep', train_feats=train_feats,\n",
    "                           input_pipe=input_pipe, sample_sz=2000, wgt_name='gen_weight', y_lim=[0,1],\n",
    "                           pdp_isolate_kargs={'percentile_range':(1,99)})"
   ]
  },
  {
   "cell_type": "markdown",
   "metadata": {},
   "source": [
    "Or even get pair-wise partial dependencies"
   ]
  },
  {
   "cell_type": "code",
   "execution_count": null,
   "metadata": {},
   "outputs": [],
   "source": [
    "plot_2d_partial_dependence(endcap, df=train_df, feats=['DER_mass_transverse_met_lep','DER_sum_pt'],\n",
    "                           train_feats=train_feats, input_pipe=input_pipe, n_points=(40,40), sample_sz=8000,\n",
    "                           wgt_name='gen_weight', pdp_interact_kargs={'percentile_ranges':[(1,99),(1,99)]})"
   ]
  },
  {
   "cell_type": "code",
   "execution_count": null,
   "metadata": {},
   "outputs": [],
   "source": []
  }
 ],
 "metadata": {
  "kernelspec": {
   "display_name": "Python 3 (ipykernel)",
   "language": "python",
   "name": "python3"
  },
  "language_info": {
   "codemirror_mode": {
    "name": "ipython",
    "version": 3
   },
   "file_extension": ".py",
   "mimetype": "text/x-python",
   "name": "python",
   "nbconvert_exporter": "python",
   "pygments_lexer": "ipython3",
   "version": "3.10.12"
  },
  "toc": {
   "base_numbering": 1,
   "nav_menu": {},
   "number_sections": true,
   "sideBar": true,
   "skip_h1_title": false,
   "title_cell": "Table of Contents",
   "title_sidebar": "Contents",
   "toc_cell": false,
   "toc_position": {},
   "toc_section_display": true,
   "toc_window_display": false
  }
 },
 "nbformat": 4,
 "nbformat_minor": 2
}
