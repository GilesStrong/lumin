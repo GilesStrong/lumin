{
 "cells": [
  {
   "cell_type": "markdown",
   "metadata": {},
   "source": [
    "# Model exporting\n"
   ]
  },
  {
   "cell_type": "code",
   "execution_count": 7,
   "metadata": {},
   "outputs": [],
   "source": [
    "%matplotlib inline\n",
    "%reload_ext autoreload\n",
    "%autoreload 2\n",
    "import warnings\n",
    "warnings.filterwarnings('once')"
   ]
  },
  {
   "cell_type": "code",
   "execution_count": 8,
   "metadata": {},
   "outputs": [],
   "source": [
    "from pathlib import Path\n",
    "SAVE_PATH = Path('weights/')"
   ]
  },
  {
   "cell_type": "code",
   "execution_count": 9,
   "metadata": {},
   "outputs": [],
   "source": [
    "from lumin.nn.ensemble.ensemble import Ensemble"
   ]
  },
  {
   "cell_type": "code",
   "execution_count": 10,
   "metadata": {},
   "outputs": [
    {
     "data": {
      "text/html": [
       "\n",
       "    <div>\n",
       "        <style>\n",
       "            /* Turns off some styling */\n",
       "            progress {\n",
       "                /* gets rid of default border in Firefox and Opera. */\n",
       "                border: none;\n",
       "                /* Needs to be in here for Safari polyfill so background images work as expected. */\n",
       "                background-size: auto;\n",
       "            }\n",
       "            .progress-bar-interrupted, .progress-bar-interrupted::-webkit-progress-bar {\n",
       "                background: #F44336;\n",
       "            }\n",
       "        </style>\n",
       "      <progress value='2' class='' max='2', style='width:300px; height:20px; vertical-align: middle;'></progress>\n",
       "      100.00% [2/2 00:00<00:00]\n",
       "    </div>\n",
       "    "
      ],
      "text/plain": [
       "<IPython.core.display.HTML object>"
      ]
     },
     "metadata": {},
     "output_type": "display_data"
    }
   ],
   "source": [
    "ensemble = Ensemble.from_save(SAVE_PATH/'Binary_Classification')"
   ]
  },
  {
   "cell_type": "code",
   "execution_count": 11,
   "metadata": {},
   "outputs": [
    {
     "name": "stderr",
     "output_type": "stream",
     "text": [
      "/Users/giles/cernbox/lumin/lumin/nn/models/model.py:149: UserWarning: ONNX export of LUMIN models has not been fully explored or sufficiently tested yet.\n",
      "                         Please use with caution, and report any trouble\n",
      "  Please use with caution, and report any trouble\"\"\")\n"
     ]
    }
   ],
   "source": [
    "ensemble.export2onnx(SAVE_PATH/'Binary_Classification', bs=1)"
   ]
  },
  {
   "cell_type": "code",
   "execution_count": 12,
   "metadata": {},
   "outputs": [
    {
     "name": "stderr",
     "output_type": "stream",
     "text": [
      "/Users/giles/cernbox/lumin/lumin/nn/models/model.py:158: UserWarning: Tensorflow ProtocolBuffer export of LUMIN models (via ONNX) has not been fully explored or sufficiently tested yet.\n",
      "                         Please use with caution, and report any trouble\n",
      "  Please use with caution, and report any trouble\"\"\")\n",
      "/Users/giles/cernbox/lumin/lumin/nn/models/model.py:149: UserWarning: ONNX export of LUMIN models has not been fully explored or sufficiently tested yet.\n",
      "                         Please use with caution, and report any trouble\n",
      "  Please use with caution, and report any trouble\"\"\")\n",
      "/Users/giles/Downloads/onnx-tensorflow/onnx_tf/common/handler_helper.py:74: UserWarning: Unknown op ConstantLike in domain `ai.onnx`.\n",
      "  handler.ONNX_OP, handler.DOMAIN or \"ai.onnx\"))\n",
      "/Users/giles/Downloads/onnx-tensorflow/onnx_tf/common/handler_helper.py:74: UserWarning: Unknown op DynamicSlice in domain `ai.onnx`.\n",
      "  handler.ONNX_OP, handler.DOMAIN or \"ai.onnx\"))\n"
     ]
    }
   ],
   "source": [
    "ensemble[0][1].export2tfpb('test.pb')"
   ]
  },
  {
   "cell_type": "code",
   "execution_count": 6,
   "metadata": {},
   "outputs": [
    {
     "data": {
      "text/plain": [
       "[PosixPath('weights/Binary_Classification_1.onnx'),\n",
       " PosixPath('weights/Binary_Classification_0.onnx')]"
      ]
     },
     "execution_count": 6,
     "metadata": {},
     "output_type": "execute_result"
    }
   ],
   "source": [
    "exports = list(SAVE_PATH.glob('*onnx')); exports"
   ]
  },
  {
   "cell_type": "code",
   "execution_count": 7,
   "metadata": {},
   "outputs": [],
   "source": [
    "import onnx\n",
    "model = onnx.load(exports[0])\n",
    "onnx.checker.check_model(model)"
   ]
  },
  {
   "cell_type": "code",
   "execution_count": 8,
   "metadata": {},
   "outputs": [
    {
     "name": "stdout",
     "output_type": "stream",
     "text": [
      "graph torch-jit-export (\n",
      "  %0[FLOAT, 1x31]\n",
      ") initializers (\n",
      "  %1[FLOAT, 4x2]\n",
      "  %2[FLOAT, 100x32]\n",
      "  %3[FLOAT, 100]\n",
      "  %4[FLOAT, 100x100]\n",
      "  %5[FLOAT, 100]\n",
      "  %6[FLOAT, 100x100]\n",
      "  %7[FLOAT, 100]\n",
      "  %8[FLOAT, 100x100]\n",
      "  %9[FLOAT, 100]\n",
      "  %10[FLOAT, 1x100]\n",
      "  %11[FLOAT, 1]\n",
      ") {\n",
      "  %12 = Slice[axes = [0], ends = [9223372036854775807], starts = [0]](%0)\n",
      "  %13 = Slice[axes = [1], ends = [9223372036854775807], starts = [30]](%12)\n",
      "  %14 = Cast[to = 7](%13)\n",
      "  %15 = Slice[axes = [0], ends = [9223372036854775807], starts = [0]](%14)\n",
      "  %16 = Constant[value = <Scalar Tensor []>]()\n",
      "  %17 = Gather[axis = 1](%15, %16)\n",
      "  %18 = Gather(%1, %17)\n",
      "  %19 = Concat[axis = 1](%18)\n",
      "  %20 = Slice[axes = [0], ends = [9223372036854775807], starts = [0]](%0)\n",
      "  %21 = Slice[axes = [1], ends = [30], starts = [0]](%20)\n",
      "  %22 = Concat[axis = 1](%19, %21)\n",
      "  %23 = Gemm[alpha = 1, beta = 1, transB = 1](%22, %2, %3)\n",
      "  %24 = Sigmoid(%23)\n",
      "  %25 = Mul(%23, %24)\n",
      "  %26 = Gemm[alpha = 1, beta = 1, transB = 1](%25, %4, %5)\n",
      "  %27 = Sigmoid(%26)\n",
      "  %28 = Mul(%26, %27)\n",
      "  %29 = Gemm[alpha = 1, beta = 1, transB = 1](%28, %6, %7)\n",
      "  %30 = Sigmoid(%29)\n",
      "  %31 = Mul(%29, %30)\n",
      "  %32 = Gemm[alpha = 1, beta = 1, transB = 1](%31, %8, %9)\n",
      "  %33 = Sigmoid(%32)\n",
      "  %34 = Mul(%32, %33)\n",
      "  %35 = Gemm[alpha = 1, beta = 1, transB = 1](%34, %10, %11)\n",
      "  %36 = Sigmoid(%35)\n",
      "  return %36\n",
      "}\n"
     ]
    }
   ],
   "source": [
    "print(onnx.helper.printable_graph(model.graph))"
   ]
  },
  {
   "cell_type": "code",
   "execution_count": 9,
   "metadata": {},
   "outputs": [
    {
     "name": "stdout",
     "output_type": "stream",
     "text": [
      "Serving 'weights/Binary_Classification_1.onnx' at http://localhost:8080\n"
     ]
    }
   ],
   "source": [
    "import netron\n",
    "netron.start(str(exports[0]))"
   ]
  },
  {
   "cell_type": "code",
   "execution_count": 10,
   "metadata": {},
   "outputs": [],
   "source": [
    "from onnx_tf.backend import prepare"
   ]
  },
  {
   "cell_type": "code",
   "execution_count": 15,
   "metadata": {},
   "outputs": [
    {
     "name": "stdout",
     "output_type": "stream",
     "text": [
      "Name: onnx-tf\r\n",
      "Version: 1.2.0\r\n",
      "Summary: Tensorflow backend and frontend for ONNX (Open Neural Network Exchange).\r\n",
      "Home-page: https://github.com/onnx/onnx-tensorflow/\r\n",
      "Author: Arpith Jacob, Tian Jin, Gheorghe-Teodor Bercea, Wenhao Hu\r\n",
      "Author-email: tian.jin1@ibm.com\r\n",
      "License: Apache License 2.0\r\n",
      "Location: /Users/giles/Downloads/onnx-tensorflow\r\n",
      "Requires: onnx, PyYAML\r\n",
      "Required-by: \r\n"
     ]
    }
   ],
   "source": [
    "!pip show onnx_tf"
   ]
  },
  {
   "cell_type": "code",
   "execution_count": 11,
   "metadata": {},
   "outputs": [
    {
     "name": "stderr",
     "output_type": "stream",
     "text": [
      "/Users/giles/Downloads/onnx-tensorflow/onnx_tf/common/handler_helper.py:74: UserWarning: Unknown op ConstantLike in domain `ai.onnx`.\n",
      "  handler.ONNX_OP, handler.DOMAIN or \"ai.onnx\"))\n",
      "/Users/giles/Downloads/onnx-tensorflow/onnx_tf/common/handler_helper.py:74: UserWarning: Unknown op DynamicSlice in domain `ai.onnx`.\n",
      "  handler.ONNX_OP, handler.DOMAIN or \"ai.onnx\"))\n"
     ]
    }
   ],
   "source": [
    "tf_rep = prepare(model)"
   ]
  },
  {
   "cell_type": "code",
   "execution_count": 12,
   "metadata": {},
   "outputs": [
    {
     "name": "stdout",
     "output_type": "stream",
     "text": [
      "['0']\n",
      "-----\n",
      "['36']\n",
      "-----\n",
      "{'1': <tf.Tensor 'Const:0' shape=(4, 2) dtype=float32>, '2': <tf.Tensor 'Const_1:0' shape=(100, 32) dtype=float32>, '3': <tf.Tensor 'Const_2:0' shape=(100,) dtype=float32>, '4': <tf.Tensor 'Const_3:0' shape=(100, 100) dtype=float32>, '5': <tf.Tensor 'Const_4:0' shape=(100,) dtype=float32>, '6': <tf.Tensor 'Const_5:0' shape=(100, 100) dtype=float32>, '7': <tf.Tensor 'Const_6:0' shape=(100,) dtype=float32>, '8': <tf.Tensor 'Const_7:0' shape=(100, 100) dtype=float32>, '9': <tf.Tensor 'Const_8:0' shape=(100,) dtype=float32>, '10': <tf.Tensor 'Const_9:0' shape=(1, 100) dtype=float32>, '11': <tf.Tensor 'Const_10:0' shape=(1,) dtype=float32>, '0': <tf.Tensor '0:0' shape=(1, 31) dtype=float32>, '12': <tf.Tensor 'Slice:0' shape=(1, 31) dtype=float32>, '13': <tf.Tensor 'Slice_1:0' shape=(1, 1) dtype=float32>, '14': <tf.Tensor 'Cast:0' shape=(1, 1) dtype=int64>, '15': <tf.Tensor 'Slice_2:0' shape=(1, 1) dtype=int64>, '16': <tf.Tensor 'Const_17:0' shape=() dtype=int64>, '17': <tf.Tensor 'GatherV2:0' shape=(1,) dtype=int64>, '18': <tf.Tensor 'GatherV2_1:0' shape=(1, 2) dtype=float32>, '19': <tf.Tensor 'concat:0' shape=(1, 2) dtype=float32>, '20': <tf.Tensor 'Slice_3:0' shape=(1, 31) dtype=float32>, '21': <tf.Tensor 'Slice_4:0' shape=(1, 30) dtype=float32>, '22': <tf.Tensor 'concat_1:0' shape=(1, 32) dtype=float32>, '23': <tf.Tensor 'add:0' shape=(1, 100) dtype=float32>, '24': <tf.Tensor 'Sigmoid:0' shape=(1, 100) dtype=float32>, '25': <tf.Tensor 'Mul_2:0' shape=(1, 100) dtype=float32>, '26': <tf.Tensor 'add_1:0' shape=(1, 100) dtype=float32>, '27': <tf.Tensor 'Sigmoid_1:0' shape=(1, 100) dtype=float32>, '28': <tf.Tensor 'Mul_5:0' shape=(1, 100) dtype=float32>, '29': <tf.Tensor 'add_2:0' shape=(1, 100) dtype=float32>, '30': <tf.Tensor 'Sigmoid_2:0' shape=(1, 100) dtype=float32>, '31': <tf.Tensor 'Mul_8:0' shape=(1, 100) dtype=float32>, '32': <tf.Tensor 'add_3:0' shape=(1, 100) dtype=float32>, '33': <tf.Tensor 'Sigmoid_3:0' shape=(1, 100) dtype=float32>, '34': <tf.Tensor 'Mul_11:0' shape=(1, 100) dtype=float32>, '35': <tf.Tensor 'add_4:0' shape=(1, 1) dtype=float32>, '36': <tf.Tensor 'Sigmoid_4:0' shape=(1, 1) dtype=float32>}\n"
     ]
    }
   ],
   "source": [
    "print(tf_rep.inputs) # Input nodes to the model\n",
    "print('-----')\n",
    "print(tf_rep.outputs) # Output nodes from the model\n",
    "print('-----')\n",
    "print(tf_rep.tensor_dict) # All nodes in the model"
   ]
  },
  {
   "cell_type": "code",
   "execution_count": 14,
   "metadata": {},
   "outputs": [],
   "source": [
    "tf_rep.export_graph(SAVE_PATH/'Binary_Classification.pb')"
   ]
  },
  {
   "cell_type": "code",
   "execution_count": null,
   "metadata": {},
   "outputs": [],
   "source": []
  }
 ],
 "metadata": {
  "kernelspec": {
   "display_name": "Python 3",
   "language": "python",
   "name": "python3"
  },
  "language_info": {
   "codemirror_mode": {
    "name": "ipython",
    "version": 3
   },
   "file_extension": ".py",
   "mimetype": "text/x-python",
   "name": "python",
   "nbconvert_exporter": "python",
   "pygments_lexer": "ipython3",
   "version": "3.6.4"
  },
  "toc": {
   "base_numbering": 1,
   "nav_menu": {},
   "number_sections": true,
   "sideBar": true,
   "skip_h1_title": false,
   "title_cell": "Table of Contents",
   "title_sidebar": "Contents",
   "toc_cell": false,
   "toc_position": {},
   "toc_section_display": true,
   "toc_window_display": false
  }
 },
 "nbformat": 4,
 "nbformat_minor": 2
}
