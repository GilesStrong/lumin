{
 "cells": [
  {
   "cell_type": "markdown",
   "metadata": {},
   "source": [
    "### Basic Modules"
   ]
  },
  {
   "cell_type": "code",
   "execution_count": 2,
   "metadata": {},
   "outputs": [],
   "source": [
    "%matplotlib inline\n",
    "%reload_ext autoreload\n",
    "%autoreload 2\n",
    "import pandas as pd\n",
    "import numpy as np\n",
    "import os\n",
    "import h5py\n",
    "import pickle\n",
    "from typing import *\n",
    "from functools import partial"
   ]
  },
  {
   "cell_type": "code",
   "execution_count": 3,
   "metadata": {},
   "outputs": [],
   "source": [
    "from pathlib import Path\n",
    "PATH = Path('data/top/')"
   ]
  },
  {
   "cell_type": "code",
   "execution_count": 4,
   "metadata": {},
   "outputs": [],
   "source": [
    "trn_store = pd.HDFStore(PATH/'train.h5')"
   ]
  },
  {
   "cell_type": "code",
   "execution_count": 5,
   "metadata": {},
   "outputs": [
    {
     "data": {
      "text/plain": [
       "pandas.io.pytables.HDFStore"
      ]
     },
     "execution_count": 5,
     "metadata": {},
     "output_type": "execute_result"
    }
   ],
   "source": [
    "type(trn_store)"
   ]
  },
  {
   "cell_type": "code",
   "execution_count": 6,
   "metadata": {},
   "outputs": [],
   "source": [
    "def load_df(store:pd.io.pytables.HDFStore, n_evts:Optional[int]=None, n_const:Optional[int]=None) -> pd.DataFrame:\n",
    "    df = trn_store.select(\"table\",stop=n_evts).drop(columns=['truthE','truthPX','truthPY','truthPZ','ttv'])\n",
    "    if n_const is not None: df.drop(columns=[f for f in df.columns if f != 'is_signal_new' and int(f[f.find('_')+1:]) >= n_const], inplace=True)\n",
    "    rename = {f:f'{f[f.find(\"_\")+1:]}_{f[:f.find(\"_\")].lower()}' for f in df.columns if f != 'is_signal_new'}\n",
    "    rename['is_signal_new'] = 'gen_target'\n",
    "    df.rename(columns=rename, inplace=True)\n",
    "    return df"
   ]
  },
  {
   "cell_type": "code",
   "execution_count": 23,
   "metadata": {},
   "outputs": [],
   "source": [
    "df = load_df(trn_store, 100000, 10)"
   ]
  },
  {
   "cell_type": "code",
   "execution_count": 24,
   "metadata": {},
   "outputs": [],
   "source": [
    "train_feats = [f for f in df.columns if f != 'gen_target']"
   ]
  },
  {
   "cell_type": "code",
   "execution_count": 25,
   "metadata": {},
   "outputs": [],
   "source": [
    "df[train_feats] = df[train_feats].replace(0.0, np.nan)"
   ]
  },
  {
   "cell_type": "code",
   "execution_count": 26,
   "metadata": {},
   "outputs": [
    {
     "data": {
      "text/html": [
       "<div>\n",
       "<style scoped>\n",
       "    .dataframe tbody tr th:only-of-type {\n",
       "        vertical-align: middle;\n",
       "    }\n",
       "\n",
       "    .dataframe tbody tr th {\n",
       "        vertical-align: top;\n",
       "    }\n",
       "\n",
       "    .dataframe thead th {\n",
       "        text-align: right;\n",
       "    }\n",
       "</style>\n",
       "<table border=\"1\" class=\"dataframe\">\n",
       "  <thead>\n",
       "    <tr style=\"text-align: right;\">\n",
       "      <th></th>\n",
       "      <th>0_e</th>\n",
       "      <th>0_px</th>\n",
       "      <th>0_py</th>\n",
       "      <th>0_pz</th>\n",
       "      <th>1_e</th>\n",
       "      <th>1_px</th>\n",
       "      <th>1_py</th>\n",
       "      <th>1_pz</th>\n",
       "      <th>2_e</th>\n",
       "      <th>2_px</th>\n",
       "      <th>...</th>\n",
       "      <th>7_pz</th>\n",
       "      <th>8_e</th>\n",
       "      <th>8_px</th>\n",
       "      <th>8_py</th>\n",
       "      <th>8_pz</th>\n",
       "      <th>9_e</th>\n",
       "      <th>9_px</th>\n",
       "      <th>9_py</th>\n",
       "      <th>9_pz</th>\n",
       "      <th>gen_target</th>\n",
       "    </tr>\n",
       "  </thead>\n",
       "  <tbody>\n",
       "    <tr>\n",
       "      <td>375</td>\n",
       "      <td>474.071136</td>\n",
       "      <td>-250.347031</td>\n",
       "      <td>-223.651962</td>\n",
       "      <td>-334.738098</td>\n",
       "      <td>103.236237</td>\n",
       "      <td>-48.866222</td>\n",
       "      <td>-56.790775</td>\n",
       "      <td>-71.025490</td>\n",
       "      <td>105.255569</td>\n",
       "      <td>-55.415001</td>\n",
       "      <td>...</td>\n",
       "      <td>-9.317527</td>\n",
       "      <td>11.226108</td>\n",
       "      <td>-5.981516</td>\n",
       "      <td>-5.456269</td>\n",
       "      <td>-7.776638</td>\n",
       "      <td>10.445061</td>\n",
       "      <td>-5.460625</td>\n",
       "      <td>-4.854525</td>\n",
       "      <td>-7.464211</td>\n",
       "      <td>0</td>\n",
       "    </tr>\n",
       "    <tr>\n",
       "      <td>377</td>\n",
       "      <td>150.504532</td>\n",
       "      <td>120.062393</td>\n",
       "      <td>76.852005</td>\n",
       "      <td>-48.274265</td>\n",
       "      <td>82.257057</td>\n",
       "      <td>63.801739</td>\n",
       "      <td>42.754807</td>\n",
       "      <td>-29.454842</td>\n",
       "      <td>48.573559</td>\n",
       "      <td>36.763199</td>\n",
       "      <td>...</td>\n",
       "      <td>-6.715529</td>\n",
       "      <td>19.354494</td>\n",
       "      <td>14.770697</td>\n",
       "      <td>10.426314</td>\n",
       "      <td>-6.907601</td>\n",
       "      <td>19.159235</td>\n",
       "      <td>15.236702</td>\n",
       "      <td>9.403827</td>\n",
       "      <td>-6.818152</td>\n",
       "      <td>0</td>\n",
       "    </tr>\n",
       "    <tr>\n",
       "      <td>378</td>\n",
       "      <td>251.645386</td>\n",
       "      <td>10.427651</td>\n",
       "      <td>-147.573746</td>\n",
       "      <td>203.564880</td>\n",
       "      <td>104.147797</td>\n",
       "      <td>10.718256</td>\n",
       "      <td>-54.497948</td>\n",
       "      <td>88.101395</td>\n",
       "      <td>78.043213</td>\n",
       "      <td>5.724113</td>\n",
       "      <td>...</td>\n",
       "      <td>35.242985</td>\n",
       "      <td>30.382032</td>\n",
       "      <td>4.197567</td>\n",
       "      <td>-17.156092</td>\n",
       "      <td>24.720778</td>\n",
       "      <td>28.893793</td>\n",
       "      <td>2.911723</td>\n",
       "      <td>-15.084988</td>\n",
       "      <td>24.470724</td>\n",
       "      <td>0</td>\n",
       "    </tr>\n",
       "    <tr>\n",
       "      <td>379</td>\n",
       "      <td>451.566132</td>\n",
       "      <td>129.885437</td>\n",
       "      <td>-99.066292</td>\n",
       "      <td>-420.984100</td>\n",
       "      <td>208.410919</td>\n",
       "      <td>59.033958</td>\n",
       "      <td>-46.177090</td>\n",
       "      <td>-194.467941</td>\n",
       "      <td>190.183304</td>\n",
       "      <td>54.069675</td>\n",
       "      <td>...</td>\n",
       "      <td>-92.613403</td>\n",
       "      <td>34.859463</td>\n",
       "      <td>9.806834</td>\n",
       "      <td>-7.581288</td>\n",
       "      <td>-32.581165</td>\n",
       "      <td>32.415459</td>\n",
       "      <td>9.238444</td>\n",
       "      <td>-7.266585</td>\n",
       "      <td>-30.209435</td>\n",
       "      <td>0</td>\n",
       "    </tr>\n",
       "    <tr>\n",
       "      <td>380</td>\n",
       "      <td>399.093903</td>\n",
       "      <td>-168.432083</td>\n",
       "      <td>-47.205597</td>\n",
       "      <td>-358.717438</td>\n",
       "      <td>273.691956</td>\n",
       "      <td>-121.926941</td>\n",
       "      <td>-30.803854</td>\n",
       "      <td>-243.088928</td>\n",
       "      <td>152.837219</td>\n",
       "      <td>-44.400204</td>\n",
       "      <td>...</td>\n",
       "      <td>-31.300266</td>\n",
       "      <td>23.398998</td>\n",
       "      <td>-11.141569</td>\n",
       "      <td>3.428889</td>\n",
       "      <td>-20.288452</td>\n",
       "      <td>30.679037</td>\n",
       "      <td>-7.839568</td>\n",
       "      <td>-6.483351</td>\n",
       "      <td>-28.943232</td>\n",
       "      <td>0</td>\n",
       "    </tr>\n",
       "    <tr>\n",
       "      <td>...</td>\n",
       "      <td>...</td>\n",
       "      <td>...</td>\n",
       "      <td>...</td>\n",
       "      <td>...</td>\n",
       "      <td>...</td>\n",
       "      <td>...</td>\n",
       "      <td>...</td>\n",
       "      <td>...</td>\n",
       "      <td>...</td>\n",
       "      <td>...</td>\n",
       "      <td>...</td>\n",
       "      <td>...</td>\n",
       "      <td>...</td>\n",
       "      <td>...</td>\n",
       "      <td>...</td>\n",
       "      <td>...</td>\n",
       "      <td>...</td>\n",
       "      <td>...</td>\n",
       "      <td>...</td>\n",
       "      <td>...</td>\n",
       "      <td>...</td>\n",
       "    </tr>\n",
       "    <tr>\n",
       "      <td>270</td>\n",
       "      <td>90.268028</td>\n",
       "      <td>-4.195592</td>\n",
       "      <td>60.712791</td>\n",
       "      <td>66.668358</td>\n",
       "      <td>69.045715</td>\n",
       "      <td>-14.976274</td>\n",
       "      <td>55.222778</td>\n",
       "      <td>38.645393</td>\n",
       "      <td>61.094059</td>\n",
       "      <td>-36.087658</td>\n",
       "      <td>...</td>\n",
       "      <td>21.467844</td>\n",
       "      <td>34.220341</td>\n",
       "      <td>-2.330091</td>\n",
       "      <td>23.279377</td>\n",
       "      <td>24.973448</td>\n",
       "      <td>24.976463</td>\n",
       "      <td>-5.639832</td>\n",
       "      <td>18.989082</td>\n",
       "      <td>15.212851</td>\n",
       "      <td>1</td>\n",
       "    </tr>\n",
       "    <tr>\n",
       "      <td>271</td>\n",
       "      <td>132.212692</td>\n",
       "      <td>43.556278</td>\n",
       "      <td>-112.529976</td>\n",
       "      <td>54.037483</td>\n",
       "      <td>94.046890</td>\n",
       "      <td>37.924595</td>\n",
       "      <td>-75.330620</td>\n",
       "      <td>41.615387</td>\n",
       "      <td>46.818245</td>\n",
       "      <td>15.029334</td>\n",
       "      <td>...</td>\n",
       "      <td>9.251928</td>\n",
       "      <td>22.894075</td>\n",
       "      <td>11.197651</td>\n",
       "      <td>-13.387837</td>\n",
       "      <td>14.816110</td>\n",
       "      <td>20.342255</td>\n",
       "      <td>10.001626</td>\n",
       "      <td>-12.284292</td>\n",
       "      <td>12.762092</td>\n",
       "      <td>1</td>\n",
       "    </tr>\n",
       "    <tr>\n",
       "      <td>272</td>\n",
       "      <td>109.807640</td>\n",
       "      <td>79.601105</td>\n",
       "      <td>75.243454</td>\n",
       "      <td>7.733328</td>\n",
       "      <td>89.442841</td>\n",
       "      <td>64.155067</td>\n",
       "      <td>62.151707</td>\n",
       "      <td>4.616718</td>\n",
       "      <td>75.744568</td>\n",
       "      <td>54.441364</td>\n",
       "      <td>...</td>\n",
       "      <td>1.380350</td>\n",
       "      <td>24.043293</td>\n",
       "      <td>7.260694</td>\n",
       "      <td>22.340012</td>\n",
       "      <td>5.127001</td>\n",
       "      <td>21.280718</td>\n",
       "      <td>19.319235</td>\n",
       "      <td>6.623101</td>\n",
       "      <td>5.980855</td>\n",
       "      <td>1</td>\n",
       "    </tr>\n",
       "    <tr>\n",
       "      <td>273</td>\n",
       "      <td>85.591797</td>\n",
       "      <td>35.005562</td>\n",
       "      <td>-52.951084</td>\n",
       "      <td>-57.417320</td>\n",
       "      <td>58.237534</td>\n",
       "      <td>30.108309</td>\n",
       "      <td>-47.242771</td>\n",
       "      <td>-15.912910</td>\n",
       "      <td>57.301460</td>\n",
       "      <td>29.624367</td>\n",
       "      <td>...</td>\n",
       "      <td>-19.479673</td>\n",
       "      <td>23.728998</td>\n",
       "      <td>13.288364</td>\n",
       "      <td>-18.860569</td>\n",
       "      <td>-5.546498</td>\n",
       "      <td>30.072861</td>\n",
       "      <td>11.538883</td>\n",
       "      <td>-19.084595</td>\n",
       "      <td>-20.174473</td>\n",
       "      <td>1</td>\n",
       "    </tr>\n",
       "    <tr>\n",
       "      <td>274</td>\n",
       "      <td>303.737366</td>\n",
       "      <td>161.291962</td>\n",
       "      <td>110.908272</td>\n",
       "      <td>-232.251251</td>\n",
       "      <td>249.831879</td>\n",
       "      <td>126.170670</td>\n",
       "      <td>93.730156</td>\n",
       "      <td>-194.194717</td>\n",
       "      <td>66.161079</td>\n",
       "      <td>49.276901</td>\n",
       "      <td>...</td>\n",
       "      <td>-10.762611</td>\n",
       "      <td>18.978884</td>\n",
       "      <td>14.202306</td>\n",
       "      <td>10.295672</td>\n",
       "      <td>-7.245114</td>\n",
       "      <td>13.148700</td>\n",
       "      <td>10.257026</td>\n",
       "      <td>6.533286</td>\n",
       "      <td>-4.999788</td>\n",
       "      <td>1</td>\n",
       "    </tr>\n",
       "  </tbody>\n",
       "</table>\n",
       "<p>100000 rows × 41 columns</p>\n",
       "</div>"
      ],
      "text/plain": [
       "            0_e        0_px        0_py        0_pz         1_e        1_px  \\\n",
       "375  474.071136 -250.347031 -223.651962 -334.738098  103.236237  -48.866222   \n",
       "377  150.504532  120.062393   76.852005  -48.274265   82.257057   63.801739   \n",
       "378  251.645386   10.427651 -147.573746  203.564880  104.147797   10.718256   \n",
       "379  451.566132  129.885437  -99.066292 -420.984100  208.410919   59.033958   \n",
       "380  399.093903 -168.432083  -47.205597 -358.717438  273.691956 -121.926941   \n",
       "..          ...         ...         ...         ...         ...         ...   \n",
       "270   90.268028   -4.195592   60.712791   66.668358   69.045715  -14.976274   \n",
       "271  132.212692   43.556278 -112.529976   54.037483   94.046890   37.924595   \n",
       "272  109.807640   79.601105   75.243454    7.733328   89.442841   64.155067   \n",
       "273   85.591797   35.005562  -52.951084  -57.417320   58.237534   30.108309   \n",
       "274  303.737366  161.291962  110.908272 -232.251251  249.831879  126.170670   \n",
       "\n",
       "          1_py        1_pz         2_e       2_px  ...       7_pz        8_e  \\\n",
       "375 -56.790775  -71.025490  105.255569 -55.415001  ...  -9.317527  11.226108   \n",
       "377  42.754807  -29.454842   48.573559  36.763199  ...  -6.715529  19.354494   \n",
       "378 -54.497948   88.101395   78.043213   5.724113  ...  35.242985  30.382032   \n",
       "379 -46.177090 -194.467941  190.183304  54.069675  ... -92.613403  34.859463   \n",
       "380 -30.803854 -243.088928  152.837219 -44.400204  ... -31.300266  23.398998   \n",
       "..         ...         ...         ...        ...  ...        ...        ...   \n",
       "270  55.222778   38.645393   61.094059 -36.087658  ...  21.467844  34.220341   \n",
       "271 -75.330620   41.615387   46.818245  15.029334  ...   9.251928  22.894075   \n",
       "272  62.151707    4.616718   75.744568  54.441364  ...   1.380350  24.043293   \n",
       "273 -47.242771  -15.912910   57.301460  29.624367  ... -19.479673  23.728998   \n",
       "274  93.730156 -194.194717   66.161079  49.276901  ... -10.762611  18.978884   \n",
       "\n",
       "          8_px       8_py       8_pz        9_e       9_px       9_py  \\\n",
       "375  -5.981516  -5.456269  -7.776638  10.445061  -5.460625  -4.854525   \n",
       "377  14.770697  10.426314  -6.907601  19.159235  15.236702   9.403827   \n",
       "378   4.197567 -17.156092  24.720778  28.893793   2.911723 -15.084988   \n",
       "379   9.806834  -7.581288 -32.581165  32.415459   9.238444  -7.266585   \n",
       "380 -11.141569   3.428889 -20.288452  30.679037  -7.839568  -6.483351   \n",
       "..         ...        ...        ...        ...        ...        ...   \n",
       "270  -2.330091  23.279377  24.973448  24.976463  -5.639832  18.989082   \n",
       "271  11.197651 -13.387837  14.816110  20.342255  10.001626 -12.284292   \n",
       "272   7.260694  22.340012   5.127001  21.280718  19.319235   6.623101   \n",
       "273  13.288364 -18.860569  -5.546498  30.072861  11.538883 -19.084595   \n",
       "274  14.202306  10.295672  -7.245114  13.148700  10.257026   6.533286   \n",
       "\n",
       "          9_pz  gen_target  \n",
       "375  -7.464211           0  \n",
       "377  -6.818152           0  \n",
       "378  24.470724           0  \n",
       "379 -30.209435           0  \n",
       "380 -28.943232           0  \n",
       "..         ...         ...  \n",
       "270  15.212851           1  \n",
       "271  12.762092           1  \n",
       "272   5.980855           1  \n",
       "273 -20.174473           1  \n",
       "274  -4.999788           1  \n",
       "\n",
       "[100000 rows x 41 columns]"
      ]
     },
     "execution_count": 26,
     "metadata": {},
     "output_type": "execute_result"
    }
   ],
   "source": [
    "df"
   ]
  },
  {
   "cell_type": "code",
   "execution_count": 27,
   "metadata": {},
   "outputs": [],
   "source": [
    "from lumin.data_processing.pre_proc import fit_input_pipe\n",
    "input_pipe = fit_input_pipe(df, train_feats, PATH/'input_pipe')"
   ]
  },
  {
   "cell_type": "code",
   "execution_count": 28,
   "metadata": {},
   "outputs": [],
   "source": [
    "df[train_feats] = input_pipe.transform(df[train_feats])"
   ]
  },
  {
   "cell_type": "code",
   "execution_count": 29,
   "metadata": {},
   "outputs": [
    {
     "data": {
      "text/plain": [
       "<matplotlib.axes._subplots.AxesSubplot at 0x10bdb49b0>"
      ]
     },
     "execution_count": 29,
     "metadata": {},
     "output_type": "execute_result"
    },
    {
     "data": {
      "image/png": "[encoded data removed]",
      "text/plain": [
       "<Figure size 432x288 with 1 Axes>"
      ]
     },
     "metadata": {},
     "output_type": "display_data"
    }
   ],
   "source": [
    "df.gen_target.hist()"
   ]
  },
  {
   "cell_type": "code",
   "execution_count": 30,
   "metadata": {},
   "outputs": [],
   "source": [
    "df['gen_weight'] = 1\n",
    "for c in df.gen_target.unique(): df.loc[df.gen_target == c, 'gen_weight'] *= 1/len(df[df.gen_target == c])"
   ]
  },
  {
   "cell_type": "code",
   "execution_count": 31,
   "metadata": {},
   "outputs": [
    {
     "data": {
      "text/plain": [
       "1.9999999999999998"
      ]
     },
     "execution_count": 31,
     "metadata": {},
     "output_type": "execute_result"
    }
   ],
   "source": [
    "df.gen_weight.sum()"
   ]
  },
  {
   "cell_type": "code",
   "execution_count": 32,
   "metadata": {},
   "outputs": [],
   "source": [
    "from lumin.data_processing.hep_proc import get_vecs"
   ]
  },
  {
   "cell_type": "code",
   "execution_count": 33,
   "metadata": {},
   "outputs": [],
   "source": [
    "fpv = ['px', 'py', 'pz', 'e']\n",
    "vecs = sorted(list(get_vecs(train_feats)))"
   ]
  },
  {
   "cell_type": "code",
   "execution_count": 34,
   "metadata": {},
   "outputs": [
    {
     "name": "stdout",
     "output_type": "stream",
     "text": [
      "Saving fold 0 with 10000 events\n",
      "Saving fold 1 with 10000 events\n",
      "Saving fold 2 with 10000 events\n",
      "Saving fold 3 with 10000 events\n",
      "Saving fold 4 with 10000 events\n",
      "Saving fold 5 with 10000 events\n",
      "Saving fold 6 with 10000 events\n",
      "Saving fold 7 with 10000 events\n",
      "Saving fold 8 with 10000 events\n",
      "Saving fold 9 with 10000 events\n"
     ]
    }
   ],
   "source": [
    "from lumin.data_processing.file_proc import df2foldfile\n",
    "df2foldfile(df=df, n_folds=10,\n",
    "            cont_feats=train_feats, cat_feats=[], targ_feats='gen_target',\n",
    "            wgt_feat='gen_weight',\n",
    "            savename=PATH/'train', targ_type='int', strat_key='gen_target')"
   ]
  },
  {
   "cell_type": "code",
   "execution_count": 72,
   "metadata": {},
   "outputs": [],
   "source": [
    "from lumin.nn.data.fold_yielder import *"
   ]
  },
  {
   "cell_type": "code",
   "execution_count": 73,
   "metadata": {},
   "outputs": [
    {
     "name": "stdout",
     "output_type": "stream",
     "text": [
      "Augmenting via phi rotations\n",
      "Augmenting via y flips\n",
      "Augmenting via longitunidnal flips\n",
      "Total augmentation multiplicity is 8\n"
     ]
    }
   ],
   "source": [
    "train_fy = HEPAugFoldYielder(PATH/'train.hdf5')"
   ]
  },
  {
   "cell_type": "code",
   "execution_count": 91,
   "metadata": {},
   "outputs": [
    {
     "name": "stdout",
     "output_type": "stream",
     "text": [
      "No optimiser specified, defaulting to ADAM\n"
     ]
    },
    {
     "data": {
      "text/plain": [
       "Inputs:\n",
       "40 Continuous: ['0_e', '0_px', '0_py', '0_pz', '1_e', '1_px', '1_py', '1_pz', '2_e', '2_px', '2_py', '2_pz', '3_e', '3_px', '3_py', '3_pz', '4_e', '4_px', '4_py', '4_pz', '5_e', '5_px', '5_py', '5_pz', '6_e', '6_px', '6_py', '6_pz', '7_e', '7_px', '7_py', '7_pz', '8_e', '8_px', '8_py', '8_pz', '9_e', '9_px', '9_py', '9_pz']\n",
       "                   \n",
       "0  Categorical: []\n",
       "                   \n",
       "0  Matrix elements: []\n",
       "                   \n",
       "\n",
       "Model:\n",
       "<bound method Module.parameters of Sequential(\n",
       "  (0): InteractionNet(\n",
       "    (fr): Sequential(\n",
       "      (0): Sequential(\n",
       "        (0): Linear(in_features=8, out_features=10, bias=True)\n",
       "        (1): Swish()\n",
       "      )\n",
       "      (1): Sequential(\n",
       "        (0): Linear(in_features=10, out_features=10, bias=True)\n",
       "        (1): Swish()\n",
       "      )\n",
       "      (2): Sequential(\n",
       "        (0): Linear(in_features=10, out_features=5, bias=True)\n",
       "        (1): Swish()\n",
       "      )\n",
       "    )\n",
       "    (fo): Sequential(\n",
       "      (0): Sequential(\n",
       "        (0): Linear(in_features=9, out_features=10, bias=True)\n",
       "        (1): Swish()\n",
       "      )\n",
       "      (1): Sequential(\n",
       "        (0): Linear(in_features=10, out_features=10, bias=True)\n",
       "        (1): Swish()\n",
       "      )\n",
       "      (2): Sequential(\n",
       "        (0): Linear(in_features=10, out_features=4, bias=True)\n",
       "        (1): Swish()\n",
       "      )\n",
       "    )\n",
       "  )\n",
       "  (1): FullyConnected(\n",
       "    (layers): ModuleList(\n",
       "      (0): Sequential(\n",
       "        (0): Linear(in_features=40, out_features=40, bias=True)\n",
       "        (1): Swish()\n",
       "      )\n",
       "      (1): Sequential(\n",
       "        (0): Linear(in_features=80, out_features=40, bias=True)\n",
       "        (1): Swish()\n",
       "      )\n",
       "      (2): Sequential(\n",
       "        (0): Linear(in_features=120, out_features=40, bias=True)\n",
       "        (1): Swish()\n",
       "      )\n",
       "      (3): Sequential(\n",
       "        (0): Linear(in_features=160, out_features=40, bias=True)\n",
       "        (1): Swish()\n",
       "      )\n",
       "    )\n",
       "  )\n",
       "  (2): ClassRegMulti(\n",
       "    (dense): Linear(in_features=40, out_features=1, bias=True)\n",
       "    (act): Sigmoid()\n",
       "  )\n",
       ")>\n",
       "                   \n",
       "\n",
       "Number of trainable parameters: 16710\n",
       "                   \n",
       "\n",
       "Optimiser:\n",
       "Adam (\n",
       "Parameter Group 0\n",
       "    amsgrad: False\n",
       "    betas: (0.9, 0.999)\n",
       "    eps: 1e-08\n",
       "    lr: 0.001\n",
       "    weight_decay: 0\n",
       ")\n",
       "                   \n",
       "\n",
       "Loss:\n",
       "<class 'torch.nn.modules.loss.BCELoss'>"
      ]
     },
     "execution_count": 91,
     "metadata": {},
     "output_type": "execute_result"
    }
   ],
   "source": [
    "from lumin.nn.models.model_builder import ModelBuilder\n",
    "from lumin.nn.models.model import Model\n",
    "from lumin.nn.models.blocks.body import FullyConnected\n",
    "from lumin.nn.models.helpers import CatEmbedder\n",
    "from lumin.nn.models.blocks.head import MultiHead, InteractionNet\n",
    "\n",
    "n_models = 1\n",
    "patience = 50\n",
    "max_epochs = 15\n",
    "\n",
    "ensemble_size = 10\n",
    "ensemble_mode = 'loss'\n",
    "\n",
    "bs = 256\n",
    "objective = 'classifier'\n",
    "head = partial(InteractionNet, intfunc_depth=3,intfunc_width=10,intfunc_out_sz=5,\n",
    "               outfunc_depth=3,outfunc_width=10,outfunc_out_sz=4,agg_method='flatten',\n",
    "               feats_per_vec=fpv,vecs=vecs, act='swish')\n",
    "body = partial(FullyConnected, depth=4, width=40, act='swish', dense=True)\n",
    "                       \n",
    "opt_args = {'eps':1e-08}\n",
    "cat_embedder = CatEmbedder.from_fy(train_fy)\n",
    "\n",
    "n_out = 1\n",
    "model_builder = ModelBuilder(objective, cont_feats=train_fy.cont_feats, n_out=n_out, cat_embedder=cat_embedder, \n",
    "                             model_args=model_args, opt_args=opt_args, head=head,body=body)\n",
    "\n",
    "m = Model(model_builder)\n",
    "m"
   ]
  },
  {
   "cell_type": "code",
   "execution_count": 92,
   "metadata": {},
   "outputs": [
    {
     "data": {
      "text/html": [
       "\n",
       "    <div>\n",
       "        <style>\n",
       "            /* Turns off some styling */\n",
       "            progress {\n",
       "                /* gets rid of default border in Firefox and Opera. */\n",
       "                border: none;\n",
       "                /* Needs to be in here for Safari polyfill so background images work as expected. */\n",
       "                background-size: auto;\n",
       "            }\n",
       "            .progress-bar-interrupted, .progress-bar-interrupted::-webkit-progress-bar {\n",
       "                background: #F44336;\n",
       "            }\n",
       "        </style>\n",
       "      <progress value='10' class='' max='10', style='width:300px; height:20px; vertical-align: middle;'></progress>\n",
       "      100.00% [10/10 00:09<00:00]\n",
       "    </div>\n",
       "    "
      ],
      "text/plain": [
       "<IPython.core.display.HTML object>"
      ]
     },
     "metadata": {},
     "output_type": "display_data"
    },
    {
     "name": "stdout",
     "output_type": "stream",
     "text": [
      "LR finder took 9.094s \n"
     ]
    },
    {
     "data": {
      "image/png": "[encoded data removed]",
      "text/plain": [
       "<Figure size 1024x576 with 1 Axes>"
      ]
     },
     "metadata": {},
     "output_type": "display_data"
    }
   ],
   "source": [
    "from lumin.optimisation.hyper_param import fold_lr_find\n",
    "lr_finder = fold_lr_find(train_fy, model_builder, bs, lr_bounds=[1e-5,1e1])"
   ]
  },
  {
   "cell_type": "code",
   "execution_count": 93,
   "metadata": {},
   "outputs": [],
   "source": [
    "from sklearn.metrics import roc_auc_score\n",
    "from lumin.nn.metrics.eval_metric import EvalMetric\n",
    "\n",
    "class AUC(EvalMetric):\n",
    "    def __init__(self, wgt_name:Optional[str]=None, targ_name:str='targets'):\n",
    "        super().__init__(targ_name=targ_name, wgt_name=wgt_name)\n",
    "\n",
    "    def evaluate(self, fy:FoldYielder, idx:int, y_pred:np.ndarray) -> float:\n",
    "        df = self.get_df(fy, idx, y_pred)\n",
    "        return roc_auc_score(df['gen_target'], df['pred'], sample_weight=df['gen_weight'])"
   ]
  },
  {
   "cell_type": "code",
   "execution_count": 94,
   "metadata": {},
   "outputs": [],
   "source": [
    "from lumin.nn.callbacks.cyclic_callbacks import *\n",
    "from functools import partial\n",
    "\n",
    "callback_partials = [partial(OneCycle, lengths=[45, 90], lr_range=[2e-4, 2e-2], mom_range=[0.85, 0.95], interp='cosine')]\n",
    "eval_metrics = {'AUC':AUC(wgt_name='weights')}"
   ]
  },
  {
   "cell_type": "code",
   "execution_count": 95,
   "metadata": {
    "scrolled": false
   },
   "outputs": [
    {
     "data": {
      "text/html": [],
      "text/plain": [
       "<IPython.core.display.HTML object>"
      ]
     },
     "metadata": {},
     "output_type": "display_data"
    },
    {
     "name": "stdout",
     "output_type": "stream",
     "text": [
      "Training model 1 / 1, Val ID = 0\n"
     ]
    },
    {
     "data": {
      "image/png": "[encoded data removed]",
      "text/plain": [
       "<Figure size 432x288 with 1 Axes>"
      ]
     },
     "metadata": {},
     "output_type": "display_data"
    },
    {
     "data": {
      "text/html": [
       "\n",
       "    <div>\n",
       "        <style>\n",
       "            /* Turns off some styling */\n",
       "            progress {\n",
       "                /* gets rid of default border in Firefox and Opera. */\n",
       "                border: none;\n",
       "                /* Needs to be in here for Safari polyfill so background images work as expected. */\n",
       "                background-size: auto;\n",
       "            }\n",
       "            .progress-bar-interrupted, .progress-bar-interrupted::-webkit-progress-bar {\n",
       "                background: #F44336;\n",
       "            }\n",
       "        </style>\n",
       "      <progress value='0' class='progress-bar-interrupted' max='15', style='width:300px; height:20px; vertical-align: middle;'></progress>\n",
       "      Interrupted\n",
       "    </div>\n",
       "    "
      ],
      "text/plain": [
       "<IPython.core.display.HTML object>"
      ]
     },
     "metadata": {},
     "output_type": "display_data"
    },
    {
     "name": "stdout",
     "output_type": "stream",
     "text": [
      "Early stopping after 135 epochs\n",
      "Scores are: {'loss': 6.6037187025358435e-06, 'AUC': 0.9241199314367562}\n",
      "Fold took 190.541s\n",
      "\n",
      "\n",
      "______________________________________\n",
      "Training finished\n",
      "Cross-validation took 190.544s \n"
     ]
    },
    {
     "data": {
      "text/plain": [
       "<Figure size 432x288 with 0 Axes>"
      ]
     },
     "metadata": {},
     "output_type": "display_data"
    },
    {
     "data": {
      "image/png": "[encoded data removed]",
      "text/plain": [
       "<Figure size 1024x576 with 1 Axes>"
      ]
     },
     "metadata": {},
     "output_type": "display_data"
    },
    {
     "name": "stdout",
     "output_type": "stream",
     "text": [
      "Mean loss = 6.6037187025358435e-06±0.0\n",
      "Mean AUC = 0.9241199314367562±0.0\n",
      "______________________________________\n",
      "\n"
     ]
    }
   ],
   "source": [
    "from lumin.nn.training.fold_train import fold_train_ensemble\n",
    "results, histories, cycle_losses = fold_train_ensemble(train_fy, n_models,\n",
    "                                                       model_builder=model_builder,\n",
    "                                                       bs=bs,\n",
    "                                                       callback_partials=callback_partials,\n",
    "                                                       eval_metrics=eval_metrics,\n",
    "                                                       max_epochs=max_epochs, patience=patience)"
   ]
  },
  {
   "cell_type": "code",
   "execution_count": null,
   "metadata": {},
   "outputs": [],
   "source": []
  }
 ],
 "metadata": {
  "kernelspec": {
   "display_name": "Python 3",
   "language": "python",
   "name": "python3"
  },
  "language_info": {
   "codemirror_mode": {
    "name": "ipython",
    "version": 3
   },
   "file_extension": ".py",
   "mimetype": "text/x-python",
   "name": "python",
   "nbconvert_exporter": "python",
   "pygments_lexer": "ipython3",
   "version": "3.6.5"
  },
  "toc": {
   "base_numbering": 1,
   "nav_menu": {},
   "number_sections": true,
   "sideBar": true,
   "skip_h1_title": false,
   "title_cell": "Table of Contents",
   "title_sidebar": "Contents",
   "toc_cell": false,
   "toc_position": {},
   "toc_section_display": true,
   "toc_window_display": false
  }
 },
 "nbformat": 4,
 "nbformat_minor": 2
}
